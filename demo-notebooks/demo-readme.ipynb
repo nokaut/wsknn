{
 "cells": [
  {
   "cell_type": "code",
   "execution_count": 8,
   "metadata": {
    "collapsed": true,
    "ExecuteTime": {
     "start_time": "2023-07-11T14:25:29.690369Z",
     "end_time": "2023-07-11T14:25:29.698742Z"
    }
   },
   "outputs": [],
   "source": [
    "import numpy as np\n",
    "from wsknn import fit\n",
    "from wsknn.utils import load_gzipped_pickle"
   ]
  },
  {
   "cell_type": "code",
   "execution_count": 3,
   "outputs": [],
   "source": [
    "# Load data\n",
    "ITEMS = 'demo-data/recsys-2015/parsed_items.pkl.gz'\n",
    "SESSIONS = 'demo-data/recsys-2015/parsed_sessions.pkl.gz'\n",
    "\n",
    "items = load_gzipped_pickle(ITEMS)\n",
    "sessions = load_gzipped_pickle(SESSIONS)\n",
    "imap = items['map']\n",
    "smap = sessions['map']"
   ],
   "metadata": {
    "collapsed": false,
    "ExecuteTime": {
     "start_time": "2023-07-11T14:20:15.010474Z",
     "end_time": "2023-07-11T14:20:32.848457Z"
    }
   }
  },
  {
   "cell_type": "code",
   "execution_count": 15,
   "outputs": [],
   "source": [
    "trained_model = fit(smap, imap, number_of_recommendations=5, weighting_func='log', return_events_from_session=False)"
   ],
   "metadata": {
    "collapsed": false,
    "ExecuteTime": {
     "start_time": "2023-07-11T14:28:09.570877Z",
     "end_time": "2023-07-11T14:28:09.635563Z"
    }
   }
  },
  {
   "cell_type": "code",
   "execution_count": 16,
   "outputs": [
    {
     "name": "stdout",
     "output_type": "stream",
     "text": [
      "[[214850771, 214677615, 214651777], [1407592501.048, 1407592529.941, 1407592552.98]]\n"
     ]
    }
   ],
   "source": [
    "test_session_key = np.random.choice(list(smap.keys()))\n",
    "test_session = smap[test_session_key]\n",
    "print(test_session)  # [products], [timestamps]"
   ],
   "metadata": {
    "collapsed": false,
    "ExecuteTime": {
     "start_time": "2023-07-11T14:28:12.609843Z",
     "end_time": "2023-07-11T14:28:12.614276Z"
    }
   }
  },
  {
   "cell_type": "code",
   "execution_count": 18,
   "outputs": [
    {
     "name": "stdout",
     "output_type": "stream",
     "text": [
      "Item: 214676306 | weight: 1.8718411072574241\n",
      "Item: 214850758 | weight: 1.2478940715049494\n",
      "Item: 214561775 | weight: 1.2478940715049494\n",
      "Item: 214821020 | weight: 1.2478940715049494\n",
      "Item: 214848322 | weight: 1.2478940715049494\n"
     ]
    }
   ],
   "source": [
    "recommendations = trained_model.recommend(test_session)\n",
    "for rec in recommendations:\n",
    "    print('Item:', rec[0], '| weight:', rec[1])"
   ],
   "metadata": {
    "collapsed": false,
    "ExecuteTime": {
     "start_time": "2023-07-11T14:29:15.070019Z",
     "end_time": "2023-07-11T14:29:15.111660Z"
    }
   }
  },
  {
   "cell_type": "code",
   "execution_count": null,
   "outputs": [],
   "source": [],
   "metadata": {
    "collapsed": false
   }
  }
 ],
 "metadata": {
  "kernelspec": {
   "display_name": "Python 3",
   "language": "python",
   "name": "python3"
  },
  "language_info": {
   "codemirror_mode": {
    "name": "ipython",
    "version": 2
   },
   "file_extension": ".py",
   "mimetype": "text/x-python",
   "name": "python",
   "nbconvert_exporter": "python",
   "pygments_lexer": "ipython2",
   "version": "2.7.6"
  }
 },
 "nbformat": 4,
 "nbformat_minor": 0
}
