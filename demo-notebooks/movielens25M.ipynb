{
 "cells": [
  {
   "cell_type": "markdown",
   "source": [
    "# Recommendations for MovieLens dataset\n",
    "\n",
    "This tutorial shows how to train WSKNN model on MovieLens dataset. We are going to load data from a flat file, and then transform it to k-NN mappings of session-items and item-sessions.\n",
    "\n",
    "*MovieLens dataset*\n",
    "\n",
    "```\n",
    "F. Maxwell Harper and Joseph A. Konstan. 2015. The MovieLens Datasets:\n",
    "History and Context. ACM Transactions on Interactive Intelligent\n",
    "Systems (TiiS) 5, 4, Article 19 (December 2015), 19 pages.\n",
    "DOI=http://dx.doi.org/10.1145/2827872\n",
    "```\n",
    "\n",
    "*Data schema*\n",
    "\n",
    "```\n",
    "ratings.csv\n",
    "\n",
    "All ratings are contained in the file `ratings.csv`. Each line of this file after the header row represents one rating of one movie by one user, and has the following format:\n",
    "\n",
    "    userId,movieId,rating,timestamp\n",
    "\n",
    "The lines within this file are ordered first by userId, then, within user, by movieId.\n",
    "\n",
    "Ratings are made on a 5-star scale, with half-star increments (0.5 stars - 5.0 stars).\n",
    "\n",
    "Timestamps represent seconds since midnight Coordinated Universal Time (UTC) of January 1, 1970.\n",
    "```"
   ],
   "metadata": {
    "collapsed": false
   }
  },
  {
   "cell_type": "code",
   "execution_count": 17,
   "metadata": {
    "collapsed": true,
    "pycharm": {
     "name": "#%%\n"
    },
    "ExecuteTime": {
     "end_time": "2023-08-28T11:09:59.284083724Z",
     "start_time": "2023-08-28T11:09:59.272575487Z"
    }
   },
   "outputs": [],
   "source": [
    "import numpy as np\n",
    "import pandas as pd\n",
    "\n",
    "from wsknn import fit\n",
    "from wsknn.preprocessing.static_parsers.pandas_parser import parse_pandas\n",
    "from wsknn.evaluate import score_model"
   ]
  },
  {
   "cell_type": "code",
   "execution_count": 4,
   "outputs": [],
   "source": [
    "fpath = 'demo-data/movielens/ml-25m/ratings.csv'\n",
    "df = pd.read_csv(fpath)\n",
    "ds = parse_pandas(df, session_id_key='userId', product_key='movieId', time_key='timestamp')\n",
    "\n",
    "del df"
   ],
   "metadata": {
    "collapsed": false,
    "ExecuteTime": {
     "end_time": "2023-08-28T10:28:14.620084322Z",
     "start_time": "2023-08-28T09:53:13.878583005Z"
    }
   }
  },
  {
   "cell_type": "code",
   "execution_count": 5,
   "outputs": [],
   "source": [
    "model = fit(sessions=ds['session-map'],\n",
    "            items=ds['item-map'],\n",
    "            number_of_recommendations=5,\n",
    "            number_of_neighbors=10,\n",
    "            sampling_strategy='recent',\n",
    "            sample_size=50,\n",
    "            weighting_func='log',\n",
    "            ranking_strategy='log',\n",
    "            return_events_from_session=False,\n",
    "            recommend_any=False)"
   ],
   "metadata": {
    "collapsed": false,
    "ExecuteTime": {
     "end_time": "2023-08-28T11:03:27.750600647Z",
     "start_time": "2023-08-28T11:03:27.734677363Z"
    }
   }
  },
  {
   "cell_type": "code",
   "execution_count": 6,
   "outputs": [],
   "source": [
    "def get_sample_sessions(set_of_sessions, n_sessions=100):\n",
    "    sessions_keys = list(set_of_sessions.keys())\n",
    "    key_sample = np.random.choice(sessions_keys, n_sessions)\n",
    "    sampled = [set_of_sessions[dk] for dk in key_sample]\n",
    "    return sampled"
   ],
   "metadata": {
    "collapsed": false,
    "ExecuteTime": {
     "end_time": "2023-08-28T11:03:28.774577586Z",
     "start_time": "2023-08-28T11:03:28.760160168Z"
    }
   }
  },
  {
   "cell_type": "code",
   "execution_count": 14,
   "outputs": [],
   "source": [
    "def get_movie_name(movie_id: str):\n",
    "    with open('demo-data/movielens/ml-25m/movies.csv', 'r') as fin:\n",
    "        header = next(fin)\n",
    "        for line in fin:\n",
    "            splitted = line.split(',')\n",
    "            if movie_id == int(splitted[0]):\n",
    "                return splitted[1]"
   ],
   "metadata": {
    "collapsed": false,
    "ExecuteTime": {
     "end_time": "2023-08-28T11:08:36.972705157Z",
     "start_time": "2023-08-28T11:08:36.963972274Z"
    }
   }
  },
  {
   "cell_type": "code",
   "execution_count": 8,
   "outputs": [],
   "source": [
    "test_sessions = get_sample_sessions(set_of_sessions=ds['session-map'], n_sessions=5)"
   ],
   "metadata": {
    "collapsed": false,
    "ExecuteTime": {
     "end_time": "2023-08-28T11:05:05.822627573Z",
     "start_time": "2023-08-28T11:05:05.814173962Z"
    }
   }
  },
  {
   "cell_type": "code",
   "execution_count": 15,
   "outputs": [
    {
     "name": "stdout",
     "output_type": "stream",
     "text": [
      "User watched\n",
      "['Austin Powers: International Man of Mystery (1997)', '\"Blues Brothers', 'Shrek (2001)', 'Happy Gilmore (1996)', 'Annie Hall (1977)', 'Butch Cassidy and the Sundance Kid (1969)', \"Monty Python's Life of Brian (1979)\", 'Psycho (1960)', 'Airplane! (1980)', 'Citizen Kane (1941)', 'North by Northwest (1959)', 'Ransom (1996)', 'Almost Famous (2000)', 'French Kiss (1995)', 'M*A*S*H (a.k.a. MASH) (1970)', 'Sling Blade (1996)', '\"Honey', '\"Crouching Tiger', \"Ferris Bueller's Day Off (1986)\", '\"Princess Bride', 'Rain Man (1988)', '\"Breakfast Club', '\"Sound of Music', '\"Maltese Falcon', 'Lost in Translation (2003)', '\"Usual Suspects', 'My Big Fat Greek Wedding (2002)', 'Pirates of the Caribbean: The Curse of the Black Pearl (2003)', 'Big Fish (2003)', 'Hoosiers (a.k.a. Best Shot) (1986)', '\"River Runs Through It', 'Magnolia (1999)', '\"Straight Story', 'Children of a Lesser God (1986)', 'In the Heat of the Night (1967)', 'Waiting for Guffman (1996)', \"My Best Friend's Wedding (1997)\", 'Sideways (2004)', 'Million Dollar Baby (2004)', 'Anatomy of a Murder (1959)', '\"Endurance: Shackleton\\'s Legendary Antarctic Expedition', 'American Beauty (1999)', 'Raising Arizona (1987)', 'Independence Day (a.k.a. ID4) (1996)', 'Willy Wonka & the Chocolate Factory (1971)', 'Valley of the Dolls (1967)', 'Pennies from Heaven (1981)', '\"Come Back to the Five and Dime', 'Cruising (1980)', 'What Women Want (2000)', '\"League of Their Own', 'My Cousin Vinny (1992)', 'West Side Story (1961)', 'Field of Dreams (1989)', \"Sophie's Choice (1982)\", 'Life as a House (2001)', 'In Good Company (2004)', 'Regarding Henry (1991)', '\"What\\'s Up', 'Back to the Future (1985)', '\"Fugitive', 'Jurassic Park (1993)', 'Pretty Woman (1990)', 'Forrest Gump (1994)', 'Rooster Cogburn (1975)', 'Finding Nemo (2003)', 'Gosford Park (2001)', 'City Slickers (1991)', 'Shanghai Noon (2000)', 'Animal House (1978)', 'High Fidelity (2000)', 'Midnight Run (1988)', 'Sleepy Hollow (1999)', 'Galaxy Quest (1999)', 'Runaway Bride (1999)', 'Analyze This (1999)', '¡Three Amigos! (1986)', '\"Bug\\'s Life', 'Notting Hill (1999)', '\"Waterboy', 'Driving Miss Daisy (1989)', 'Midnight in the Garden of Good and Evil (1997)', 'Sliding Doors (1998)', 'Jerry Maguire (1996)', 'Men in Black (a.k.a. MIB) (1997)', '12 Angry Men (1957)', '\"Graduate', 'Groundhog Day (1993)', \"One Flew Over the Cuckoo's Nest (1975)\", 'Mary Poppins (1964)', 'Monty Python and the Holy Grail (1975)', 'Cool Runnings (1993)', 'Trainspotting (1996)', 'Philadelphia (1993)', \"Nobody's Fool (1994)\", 'Billy Madison (1995)', \"Mr. Holland's Opus (1995)\", '\"Aviator', 'Garden State (2004)', 'Love Actually (2003)', 'Mystic River (2003)', '\"Station Agent', 'Freaky Friday (2003)', '\"Incredibles', 'Cool Hand Luke (1967)', '\"Player', 'Hotel Rwanda (2004)', 'Finding Neverland (2004)', 'Vera Drake (2004)', 'Frida (2002)', 'Crash (2004)', '\"Lord of the Rings: The Return of the King', '\"Lord of the Rings: The Two Towers', '\"Amelie (Fabuleux destin d\\'Amélie Poulain', 'Ray (2004)', 'Eternal Sunshine of the Spotless Mind (2004)', '\"Lord of the Rings: The Fellowship of the Ring', 'Touching the Void (2003)', 'About a Boy (2002)', '\"Beautiful Mind', 'Harry Potter and the Prisoner of Azkaban (2004)', 'Seabiscuit (2003)', 'Best in Show (2000)', 'Wonder Boys (2000)', '\"O Brother', 'Matchstick Men (2003)', \"Ocean's Eleven (2001)\", 'Adaptation (2002)', 'American Splendor (2003)', '\"Winged Migration (Peuple migrateur', '\"Bourne Identity', 'Finding Forrester (2000)', '\"Mighty Wind', 'Chocolat (2000)', 'Chicago (2002)', 'School of Rock (2003)', '\"Royal Tenenbaums', 'Secondhand Lions (2003)', '\"Life Aquatic with Steve Zissou', 'Erin Brockovich (2000)', 'Red Dragon (2002)', 'Chicken Run (2000)', 'Harry Potter and the Chamber of Secrets (2002)', \"Bridget Jones's Diary (2001)\", 'Confessions of a Dangerous Mind (2002)', '\"Shipping News', 'Dodgeball: A True Underdog Story (2004)', 'Under the Tuscan Sun (2003)', 'Legally Blonde (2001)', '\"Whole Nine Yards', 'A.I. Artificial Intelligence (2001)', 'Space Cowboys (2000)', 'Austin Powers in Goldmember (2002)', 'Road Trip (2000)', 'Shanghai Knights (2003)', 'Sweet Home Alabama (2002)', 'Shallow Hal (2001)', 'This Is Spinal Tap (1984)', 'As Good as It Gets (1997)', 'Dead Poets Society (1989)', 'Dances with Wolves (1990)', '\"African Queen', '\"Christmas Story', \"What's Eating Gilbert Grape (1993)\", '\"Officer and a Gentleman', '\"Perfect Storm', 'North Dallas Forty (1979)', '\"Great Santini', \"All the King's Men (1949)\", '\"Play It Again', 'Rookie of the Year (1993)', \"Cheech & Chong's Next Movie (1980)\", '\"Bishop\\'s Wife', 'Being John Malkovich (1999)', 'Leave It to Beaver (1997)', '\"Truth About Cats & Dogs', 'Top Gun (1986)', 'Amadeus (1984)', '\"Godfather', 'Twister (1996)', '\"Fish Called Wanda', '\"English Patient', '2001: A Space Odyssey (1968)', 'Sleepless in Seattle (1993)', 'What the #$*! Do We Know!? (a.k.a. What the Bleep Do We Know!?) (2004)', '\"Sunshine Boys', \"America's Sweethearts (2001)\", 'Continental Divide (1981)', '\"Planes', 'Tootsie (1982)', '\"Good Morning', 'Trading Places (1983)', '\"Bodyguard', 'Risky Business (1983)', '\"Name of the Rose', '\"Big Chill', '\"Producers', '\"Simple Plan', 'History of the World: Part I (1981)', 'Broadcast News (1987)', '\"Spanish Prisoner', 'Con Air (1997)', '\"Third Man', '\"Big Sleep', 'Sleeper (1973)', 'Mr. Smith Goes to Washington (1939)', \"It's a Wonderful Life (1946)\", 'Bananas (1971)', 'Vertigo (1958)', 'Kingpin (1996)', 'Roxanne (1987)', '13 Going on 30 (2004)', 'Kate & Leopold (2001)', '\"War of the Roses', 'Breaker Morant (1980)', 'Love and Death (1975)', '\"Prince of Tides', \"Guess Who's Coming to Dinner (1967)\", 'Gung Ho (1986)', 'My Blue Heaven (1990)', '\"Horse Whisperer', 'Educating Rita (1983)', 'Horse Feathers (1932)', '\"Shawshank Redemption', '\"Sixth Sense', '\"Silence of the Lambs', \"Schindler's List (1993)\", 'Fargo (1996)', 'Waking Ned Devine (a.k.a. Waking Ned) (1998)', 'Unforgiven (1992)', '\"Hunt for Red October', 'Quiz Show (1994)', 'Crumb (1994)', 'Good Will Hunting (1997)', 'October Sky (1999)', '\"Green Mile', 'Office Space (1999)', '\"Sandlot', 'Fried Green Tomatoes (1991)', 'Pleasantville (1998)', 'Scent of a Woman (1992)', 'JFK (1991)', '\"Big Lebowski', 'Immortal Beloved (1994)', 'Four Weddings and a Funeral (1994)', 'Bob Roberts (1992)', 'Defending Your Life (1991)', 'Thelma & Louise (1991)', 'Leaving Las Vegas (1995)', 'Brassed Off (1996)', 'Forget Paris (1995)', 'Crazy in Alabama (1999)', 'Space Jam (1996)', '\"Day the Earth Stood Still', '\"American President', 'Dave (1993)', 'Raiders of the Lost Ark (Indiana Jones and the Raiders of the Lost Ark) (1981)', '\"Great Escape', 'Easy Rider (1969)', 'Dersu Uzala (1975)', 'Deliverance (1972)', 'Stand by Me (1986)', 'Indiana Jones and the Last Crusade (1989)', 'Romancing the Stone (1984)', 'Crocodile Dundee (1986)', 'Popeye (1980)', 'Apollo 13 (1995)', 'Who Framed Roger Rabbit? (1988)', 'Toy Story (1995)', 'Cast Away (2000)', '\"Nutty Professor', 'Revenge of the Nerds (1984)', 'Footloose (1984)', 'Key Largo (1948)', 'Body Heat (1981)', \"White Men Can't Jump (1992)\", 'Big Daddy (1999)', 'Nashville (1975)', 'Manhattan (1979)', 'Duck Soup (1933)', 'To Kill a Mockingbird (1962)', '\"Sting', 'L.A. Confidential (1997)', 'In Her Shoes (2005)', 'Casablanca (1942)', 'Rear Window (1954)']\n",
      "Recommendations\n",
      "Item: Pulp Fiction (1994) | weight: 0.1427693369773854\n",
      "Item: Reservoir Dogs (1992) | weight: 0.1427693369773854\n",
      "Item: Goodfellas (1990) | weight: 0.1427693369773854\n",
      "Item: Django Unchained (2012) | weight: 0.14253826018953059\n",
      "Item: Fight Club (1999) | weight: 0.14253826018953059\n",
      "---\n",
      "\n",
      "User watched\n",
      "['\"Silence of the Lambs', '\"Big Lebowski', 'Ghosts of Mississippi (1996)', 'Braveheart (1995)', 'Michael (1996)', 'Gattaca (1997)', 'American Beauty (1999)', '\"Green Mile', 'Liberty Heights (1999)', '\"Shawshank Redemption', \"Schindler's List (1993)\", 'Titanic (1997)', 'Apollo 13 (1995)', 'Contact (1997)', 'As Good as It Gets (1997)', '\"League of Their Own', 'JFK (1991)', 'Dead Man Walking (1995)', 'Fargo (1996)', '\"Boys of St. Vincent', 'Good Will Hunting (1997)', 'Hamlet (1996)', 'Simon Birch (1998)', 'Amistad (1997)', 'Thelma & Louise (1991)', 'Malcolm X (1992)', 'Jerry Maguire (1996)', 'Nell (1994)', \"Mr. Holland's Opus (1995)\", 'Phenomenon (1996)', 'Far and Away (1992)', 'Murder in the First (1995)', 'Courage Under Fire (1996)', 'Legends of the Fall (1994)', 'Deep Impact (1998)', 'Edward Scissorhands (1990)', '\"Client', 'Get Shorty (1995)', '\"Basketball Diaries', 'In the Name of the Father (1993)', 'Seven Years in Tibet (1997)', 'Hope Floats (1998)', '\"Bodyguard', 'Varsity Blues (1999)', 'Stanley & Iris (1990)', 'Extreme Measures (1996)', 'Reality Bites (1994)', 'Private Parts (1997)']\n",
      "Recommendations\n",
      "Item: Star Wars: Episode V - The Empire Strikes Back (1980) | weight: 0.17480648796774925\n",
      "Item: Forrest Gump (1994) | weight: 0.1576674993051743\n",
      "Item: Shrek (2001) | weight: 0.15269358354208826\n",
      "Item: Pulp Fiction (1994) | weight: 0.1510621595809882\n",
      "Item: \"Lord of the Rings: The Fellowship of the Ring | weight: 0.1510621595809882\n",
      "---\n",
      "\n",
      "User watched\n",
      "['Beavis and Butt-Head Do America (1996)', '\"Gods Must Be Crazy', 'Trading Places (1983)', 'Blue Velvet (1986)', 'Star Trek: Insurrection (1998)', 'Risky Business (1983)', 'Multiplicity (1996)', 'Driving Miss Daisy (1989)', 'Man on the Moon (1999)', 'Fast Times at Ridgemont High (1982)', 'Frequency (2000)', 'Hackers (1995)', '\"Iron Giant', '\"Fisher King', 'Wild Things (1998)', '\"\\'burbs', '*batteries not included (1987)', '\"10', '101 Dalmatians (1996)', '\"Usual Suspects', '\"Pentagon Wars', 'Stripes (1981)', 'Animal House (1978)', 'Caddyshack (1980)', 'Top Secret! (1984)', \"National Lampoon's Vacation (1983)\", 'Ghostbusters (a.k.a. Ghost Busters) (1984)', 'Real Genius (1985)', 'Slap Shot (1977)', 'X2: X-Men United (2003)', 'Twelve Monkeys (a.k.a. 12 Monkeys) (1995)', '\"Amelie (Fabuleux destin d\\'Amélie Poulain', \"Ferris Bueller's Day Off (1986)\", 'Die Hard (1988)', '\"Terminator', 'Airplane! (1980)', '\"Hunt for Red October', 'Terminator 2: Judgment Day (1991)', 'WarGames (1983)', 'Toy Story (1995)', '\"Naked Gun: From the Files of Police Squad!', 'Toy Story 2 (1999)', '\"40-Year-Old Virgin', '\"Planes', 'Highlander (1986)', 'Austin Powers: International Man of Mystery (1997)', 'History of the World: Part I (1981)', 'Star Trek II: The Wrath of Khan (1982)', 'Beetlejuice (1988)', \"Christmas Vacation (National Lampoon's Christmas Vacation) (1989)\", '\"Goonies', 'Poltergeist (1982)', 'Big Trouble in Little China (1986)', '\"Great Muppet Caper', 'Zack and Miri Make a Porno (2008)', 'Spider-Man (2002)', 'Tropic Thunder (2008)', 'Who Framed Roger Rabbit? (1988)', \"Bill & Ted's Excellent Adventure (1989)\", 'Galaxy Quest (1999)', 'Scrooged (1988)', 'Super Troopers (2001)', 'Strange Brew (1983)', 'Evil Dead II (Dead by Dawn) (1987)', '\"Road Warrior', '\"Blood of Heroes', 'Mystery Science Theater 3000: The Movie (1996)', '\"Simpsons Movie', 'UHF (1989)', '\"Muppets Take Manhattan', 'School of Rock (2003)', \"I'm Gonna Git You Sucka (1988)\", '\"Wedding Singer', 'Blazing Saddles (1974)', 'Dirty Harry (1971)', 'Goldfinger (1964)', 'Dr. No (1962)', '\"Pink Panther', '\"Pink Panther Strikes Again', 'Willy Wonka & the Chocolate Factory (1971)', 'Spaceballs (1987)', \"Wayne's World (1992)\", \"There's Something About Mary (1998)\", 'Clue (1985)', 'Back to the Future Part II (1989)', '\"NeverEnding Story', 'Better Off Dead... (1985)', 'Harry Potter and the Goblet of Fire (2005)', '\"Last Starfighter', 'Rocky (1976)', '\"Muppet Movie', 'Weird Science (1985)', 'One Crazy Summer (1986)', '48 Hrs. (1982)', 'Coming to America (1988)', 'So I Married an Axe Murderer (1993)', 'Blackadder Back & Forth (1999)', 'Star Wars: Episode IV - A New Hope (1977)', 'Star Wars: Episode V - The Empire Strikes Back (1980)', 'Star Wars: Episode VI - Return of the Jedi (1983)', 'Indiana Jones and the Last Crusade (1989)', 'Raiders of the Lost Ark (Indiana Jones and the Raiders of the Lost Ark) (1981)', '\"Shawshank Redemption', \"One Flew Over the Cuckoo's Nest (1975)\", '\"Godfather', '\"Godfather: Part II', 'Goodfellas (1990)', 'Pulp Fiction (1994)', 'Fight Club (1999)', '\"Dark Knight', '\"Departed', 'L.A. Confidential (1997)', 'American History X (1998)', 'American Beauty (1999)', 'Eternal Sunshine of the Spotless Mind (2004)', 'Being John Malkovich (1999)', 'Memento (2000)', '\"Lock', 'Inglourious Basterds (2009)', 'Snatch (2000)', 'Trainspotting (1996)', 'Reservoir Dogs (1992)', 'Full Metal Jacket (1987)', 'Apocalypse Now (1979)', 'Raging Bull (1980)', 'Taxi Driver (1976)', 'Requiem for a Dream (2000)', 'Donnie Darko (2001)', '\"Clockwork Orange', 'Léon: The Professional (a.k.a. The Professional) (Léon) (1994)', 'Seven (a.k.a. Se7en) (1995)', '\"Sting', '\"Princess Bride', '\"Lord of the Rings: The Return of the King', '\"Lord of the Rings: The Two Towers', '\"Lord of the Rings: The Fellowship of the Ring', 'Star Trek (2009)', 'WALL·E (2008)', 'Back to the Future (1985)', 'Blade Runner (1982)', '\"Fifth Element', 'Alien (1979)', '2001: A Space Odyssey (1968)', 'District 9 (2009)', '\"Matrix', 'Aliens (1986)', 'Iron Man (2008)', 'Serenity (2005)', 'Close Encounters of the Third Kind (1977)', '\"Pan\\'s Labyrinth (Laberinto del fauno', 'Sin City (2005)', 'Dark City (1998)', 'Grindhouse (2007)', 'Invasion of the Body Snatchers (1956)', '\"Abyss', 'They Live (1988)', 'X-Men (2000)', 'E.T. the Extra-Terrestrial (1982)', 'Jurassic Park (1993)', 'Minority Report (2002)', 'Star Wars: Episode III - Revenge of the Sith (2005)', 'Contact (1997)', 'Forrest Gump (1994)', '\"Silence of the Lambs', 'Braveheart (1995)', '\"Fugitive', 'Apollo 13 (1995)', 'Independence Day (a.k.a. ID4) (1996)', 'Dances with Wolves (1990)', 'True Lies (1994)', \"Schindler's List (1993)\", 'Aladdin (1992)', 'Speed (1994)', 'Ace Ventura: Pet Detective (1994)', 'Mission: Impossible (1996)', 'Die Hard: With a Vengeance (1995)', 'Beauty and the Beast (1991)', '\"Lion King', 'Batman Forever (1995)', 'Twister (1996)', 'Saving Private Ryan (1998)', '\"Sixth Sense', 'Stargate (1994)', 'Clear and Present Danger (1994)', 'Mrs. Doubtfire (1993)', 'Pretty Woman (1990)', 'Dumb & Dumber (Dumb and Dumber) (1994)', '\"Mask', '\"Rock', 'Men in Black (a.k.a. MIB) (1997)', 'Titanic (1997)', 'GoldenEye (1995)', 'Star Wars: Episode I - The Phantom Menace (1999)', 'Ghost (1990)', 'Star Trek: Generations (1994)', 'Groundhog Day (1993)', 'Sleepless in Seattle (1993)', 'Monty Python and the Holy Grail (1975)', 'Gladiator (2000)', 'Waterworld (1995)', 'Outbreak (1995)', 'Shrek (2001)', 'Interview with the Vampire: The Vampire Chronicles (1994)', 'Home Alone (1990)', '\"Firm', 'Clueless (1995)', '\"Net', 'Crimson Tide (1995)', '\"Birdcage', 'Broken Arrow (1996)', 'Get Shorty (1995)', 'Good Will Hunting (1997)', 'Rain Man (1988)', 'Heat (1995)', 'Austin Powers: The Spy Who Shagged Me (1999)', 'Shakespeare in Love (1998)', 'Natural Born Killers (1994)', '\"Crouching Tiger', 'Clerks (1994)', '\"Wizard of Oz', 'American Pie (1999)', 'Jerry Maguire (1996)', 'Quiz Show (1994)', 'Armageddon (1998)', 'When Harry Met Sally... (1989)', 'Jumanji (1995)', 'As Good as It Gets (1997)', 'Ace Ventura: When Nature Calls (1995)', '\"Truman Show', 'Jaws (1975)', '\"Breakfast Club', '\"Shining', 'Top Gun (1986)', 'Star Trek: First Contact (1996)', '\"Monsters', '\"Bug\\'s Life', 'Pirates of the Caribbean: The Curse of the Black Pearl (2003)', '\"Nutty Professor', 'Stand by Me (1986)', 'Back to the Future Part III (1990)', 'Amadeus (1984)', 'Total Recall (1990)', '\"Blair Witch Project', \"Monty Python's Life of Brian (1979)\", 'Addams Family Values (1993)', 'Indiana Jones and the Temple of Doom (1984)', '\"Blues Brothers', '\"Fish Called Wanda', 'Big (1988)', 'Edward Scissorhands (1990)', \"Ocean's Eleven (2001)\", '\"Nightmare Before Christmas', 'Demolition Man (1993)', 'Dead Poets Society (1989)', 'Happy Gilmore (1996)', 'Finding Nemo (2003)', 'Office Space (1999)', 'Snow White and the Seven Dwarfs (1937)', 'Psycho (1960)', '\"Beautiful Mind', '\"Green Mile', 'Face/Off (1997)', 'Almost Famous (2000)', \"What's Eating Gilbert Grape (1993)\", 'Liar Liar (1997)', '\"Big Lebowski', 'Casino (1995)', '\"South Park: Bigger', 'Scream (1996)', 'Legends of the Fall (1994)', '\"Honey', '\"O Brother', 'Mars Attacks! (1996)', 'Gattaca (1997)', '\"English Patient', '\"Truth About Cats & Dogs', 'Cast Away (2000)', '\"Santa Clause', 'Lethal Weapon (1987)', 'Kill Bill: Vol. 1 (2003)', 'Traffic (2000)', 'Ed Wood (1994)', '\"Crow', '\"Mummy', 'Mission: Impossible II (2000)', 'Superman (1978)', 'Grease (1978)', 'Chicken Run (2000)', \"Charlie's Angels (2000)\", '\"Full Monty', '\"Graduate', 'Erin Brockovich (2000)', 'Beverly Hills Cop III (1994)', 'Tombstone (1993)', 'Dragonheart (1996)', 'Run Lola Run (Lola rennt) (1998)', 'This Is Spinal Tap (1984)', 'Dogma (1999)', 'Ransom (1996)', '\"Bourne Identity', 'Congo (1995)', 'Judge Dredd (1995)', '\"Cable Guy', 'Grumpier Old Men (1995)', 'Platoon (1986)', '\"Untouchables', 'High Fidelity (2000)', 'Raising Arizona (1987)', 'Die Hard 2 (1990)', '\"Incredibles', 'Much Ado About Nothing (1993)', '\"Few Good Men', 'Starship Troopers (1997)', 'Eyes Wide Shut (1999)', 'Naked Gun 33 1/3: The Final Insult (1994)', 'Grosse Pointe Blank (1997)', 'Enemy of the State (1998)', 'My Cousin Vinny (1992)', 'True Romance (1993)', 'Young Frankenstein (1974)', 'Chasing Amy (1997)', 'Arachnophobia (1990)', 'Robin Hood: Men in Tights (1993)', 'Coneheads (1993)', 'Desperado (1995)', 'Hot Shots! Part Deux (1993)', 'Meet the Parents (2000)', 'Romancing the Stone (1984)', 'Star Wars: Episode II - Attack of the Clones (2002)', 'Kill Bill: Vol. 2 (2004)', '\"Matrix Reloaded', '\"Lost World: Jurassic Park', \"Harry Potter and the Sorcerer's Stone (a.k.a. Harry Potter and the Philosopher's Stone) (2001)\", 'Wallace & Gromit: The Wrong Trousers (1993)', \"City Slickers II: The Legend of Curly's Gold (1994)\", '\"Little Mermaid', 'Con Air (1997)', 'Catch Me If You Can (2002)', 'Pleasantville (1998)', '\"Sound of Music', 'Sling Blade (1996)', 'Alien³ (a.k.a. Alien 3) (1992)', 'Rumble in the Bronx (Hont faan kui) (1995)', '\"Rocky Horror Picture Show', 'Last Action Hero (1993)', 'Lethal Weapon 2 (1989)', 'Mary Poppins (1964)', \"It's a Wonderful Life (1946)\", 'Johnny Mnemonic (1995)', 'RoboCop (1987)', 'Boogie Nights (1997)', '\"Mask of Zorro', 'Species (1995)', 'Star Trek IV: The Voyage Home (1986)', 'Phenomenon (1996)', 'Pinocchio (1940)', '\"Three Musketeers', 'Unforgiven (1992)', 'M*A*S*H (a.k.a. MASH) (1970)', 'Batman Begins (2005)', 'Predator (1987)', 'Sneakers (1992)', 'Spider-Man 2 (2004)', '\"Patriot', 'First Knight (1995)', 'Unbreakable (2000)', '\"Good', 'Sleepy Hollow (1999)', '\"Exorcist', 'Planet of the Apes (1968)', 'Like Water for Chocolate (Como agua para chocolate) (1992)', 'From Dusk Till Dawn (1996)', 'Shrek 2 (2004)', 'Crocodile Dundee (1986)', 'Splash (1984)', '\"X-Files: Fight the Future', 'Batman Returns (1992)', 'Bad Boys (1995)', '\"Christmas Story', 'Fatal Attraction (1987)', 'Tomorrow Never Dies (1997)', 'Field of Dreams (1989)', 'Fantasia (1940)', '\"Last of the Mohicans', '\"Time to Kill', 'Harry Potter and the Chamber of Secrets (2002)', 'Primal Fear (1996)', '\"Hudsucker Proxy', 'Star Trek VI: The Undiscovered Country (1991)', \"Bridget Jones's Diary (2001)\", 'Wallace & Gromit: A Close Shave (1995)', '\"Good Morning', 'Searching for Bobby Fischer (1993)', 'Blade (1998)', '\"Adventures of Priscilla', 'Magnolia (1999)', '\"Hunchback of Notre Dame', \"The Devil's Advocate (1997)\", 'Bowling for Columbine (2002)', \"You've Got Mail (1998)\", 'Dirty Dancing (1987)', 'Gremlins (1984)', 'Jackie Brown (1997)', 'Cocoon (1985)', 'Conspiracy Theory (1997)', '\"Godfather: Part III', 'Basic Instinct (1992)', 'Mortal Kombat (1995)', 'Tommy Boy (1995)', 'Wild Wild West (1999)', 'Star Trek III: The Search for Spock (1984)', 'Heathers (1989)', 'Striptease (1996)', 'Kingpin (1996)', 'Wag the Dog (1997)', 'Moulin Rouge (2001)', '\"Matrix Revolutions', 'A.I. Artificial Intelligence (2001)', '\"Bourne Supremacy', 'Harry Potter and the Prisoner of Azkaban (2004)', 'Swingers (1996)', 'Big Fish (2003)', 'Ice Age (2002)', '\"Brady Bunch Movie', 'Lady and the Tramp (1955)', 'Space Jam (1996)', 'Elizabeth (1998)', '\"Flintstones', 'Antz (1998)', 'Dangerous Minds (1995)', '\"Deer Hunter', '\"Fly', '\"League of Their Own', 'Tron (1982)', 'Papillon (1973)', '\"Right Stuff', 'Raiders of the Lost Ark: The Adaptation (1989)', 'American Graffiti (1973)', '\"Quiet Man', 'House of Flying Daggers (Shi mian mai fu) (2004)', 'Bambi (1942)', 'Roots (1977)', 'Richard Pryor: Live in Concert (1979)', 'Lone Wolf and Cub: Baby Cart to Hades (Kozure Ôkami: Shinikazeni mukau ubaguruma) (1972)', \"Dr. Horrible's Sing-Along Blog (2008)\", '\"Wrestler', 'No Country for Old Men (2007)', '\"Bourne Ultimatum', '300 (2007)', '28 Days Later (2002)', 'City Slickers (1991)', 'Hook (1991)', 'Payback (1999)', 'Sixteen Candles (1984)', 'Lost in Space (1998)', 'Alien: Resurrection (1997)', '\"Nightmare on Elm Street', 'Mallrats (1995)', 'Father of the Bride Part II (1995)', \"Pirates of the Caribbean: At World's End (2007)\", 'Spider-Man 3 (2007)', 'Superman Returns (2006)', 'Van Helsing (2004)', 'Anger Management (2003)', 'Three Men and a Baby (1987)', 'Jay and Silent Bob Strike Back (2001)', 'Short Circuit (1986)', 'Scary Movie 2 (2001)', 'Beverly Hills Cop II (1987)', 'Bedazzled (2000)', '\"Naked Gun 2 1/2: The Smell of Fear', '\"Replacements', '\"Avengers', 'Psycho (1998)', 'I Still Know What You Did Last Summer (1998)', '\"American Tail', '\"Dead Zone', 'Bean (1997)', 'Event Horizon (1997)', 'Excalibur (1981)', 'Buffy the Vampire Slayer (1992)', 'Angels in the Outfield (1994)', 'Cool Runnings (1993)', '\"Shadow', 'Highlander III: The Sorcerer (a.k.a. Highlander: The Final Dimension) (1994)', 'Timecop (1994)', 'Hancock (2008)', 'Wanted (2008)', 'Planet Terror (2007)', 'Ghost Rider (2007)', 'Fun with Dick and Jane (2005)', '\"Manchurian Candidate', 'EuroTrip (2004)', 'Peter Pan (2003)', 'Highlander II: The Quickening (1991)', 'Scary Movie 3 (2003)', 'Undercover Brother (2002)', 'The Scorpion King (2002)', 'Death to Smoochy (2002)', 'Orange County (2002)', 'Ghosts of Mars (2001)', 'Short Circuit 2 (1988)', 'Dr. Dolittle 2 (2001)', 'Josie and the Pussycats (2001)', '\"Living Daylights', '\"Way of the Gun', 'Bachelor Party (1984)', 'Bloodsport (1988)', 'My Science Project (1985)', 'Problem Child (1990)', '\"Fly II', 'Orgazmo (1997)', 'Friday the 13th Part VIII: Jason Takes Manhattan (1989)', '\"Big Hit', 'Children of the Corn IV: The Gathering (1996)', 'Halloween: The Curse of Michael Myers (Halloween 6: The Curse of Michael Myers) (1995)', 'Bulletproof (1996)', 'Doom (2005)', '\"I', 'Cool World (1992)', 'Passenger 57 (1992)', 'Remo Williams: The Adventure Begins (1985)', '\"Italian Job', 'House of 1000 Corpses (2003)', 'Captain Ron (1992)', 'Signs (2002)', 'Stir Crazy (1980)', 'Erik the Viking (1989)', 'American Ninja (1985)', '\"Great Outdoors', 'Caddyshack II (1988)', \"Cheech & Chong's Nice Dreams (1981)\", 'Double Impact (1991)', '\"Monster Squad', 'Runaway (1984)', 'House Party (1990)', 'Snow Day (2000)', '\"13th Warrior', 'Aces: Iron Eagle III (1992)', 'Mystery Men (1999)', 'Nothing But Trouble (1991)', 'Dune (1984)', 'Godzilla (1998)', 'My Giant (1998)', 'Scream 2 (1997)', 'Heavy Metal (1981)', 'Under Siege 2: Dark Territory (1995)', '\"Invention of Lying', 'G.I. Joe: The Rise of Cobra (2009)', '\"Hangover', '28 Weeks Later (2007)', 'Reno 911!: Miami (2007)', 'Zombieland (2009)', 'Lucky Number Slevin (2006)', '\"Boondock Saints', 'Shaun of the Dead (2004)', 'Army of Darkness (1993)', '\"Royal Tenenbaums', 'Fargo (1996)', 'Dr. Strangelove or: How I Learned to Stop Worrying and Love the Bomb (1964)', 'Burn After Reading (2008)', 'Arsenic and Old Lace (1944)', 'Lord of War (2005)', 'Suicide Kings (1997)', 'Sweeney Todd: The Demon Barber of Fleet Street (2007)', 'Idiocracy (2006)', 'Four Rooms (1995)', 'Darkman (1990)', 'Idle Hands (1999)', 'Little Shop of Horrors (1986)', 'Strangers with Candy (2005)', 'Very Bad Things (1998)', 'Visioneers (2008)', 'V for Vendetta (2006)', 'Watchmen (2009)', 'Equilibrium (2002)', 'Akira (1988)', 'Hot Fuzz (2007)', 'District 13 (Banlieue 13) (2004)', 'Fahrenheit 451 (1966)', '\"Running Man', '\"Ice Pirates', 'I Am Legend (2007)', 'Where the Red Fern Grows (1974)', \"It's a Very Merry Muppet Christmas Movie (2002)\", 'The Butterfly Effect (2004)', 'Stranger than Fiction (2006)', 'Walk the Line (2005)', '\"Ring', 'Percy Jackson & the Olympians: The Lightning Thief (2010)', 'Borat: Cultural Learnings of America for Make Benefit Glorious Nation of Kazakhstan (2006)', 'Brokeback Mountain (2005)', 'Master and Commander: The Far Side of the World (2003)', '\"Boy Named Charlie Brown', 'Hero (Ying xiong) (2002)', 'Prison Break: The Final Break (2009)', 'Men in Black II (a.k.a. MIIB) (a.k.a. MIB 2) (2002)', 'Four Weddings and a Funeral (1994)', 'Superbad (2007)', 'Transformers (2007)', 'Rushmore (1998)', 'Collateral (2004)', 'Crash (2004)', 'Quantum of Solace (2008)', 'Gangs of New York (2002)', 'Charlie and the Chocolate Factory (2005)', 'Austin Powers in Goldmember (2002)', 'Pearl Harbor (2001)', 'Harry Potter and the Half-Blood Prince (2009)', 'Troy (2004)', \"Monty Python's The Meaning of Life (1983)\", 'What Women Want (2000)', 'Miss Congeniality (2000)', 'Terminator 3: Rise of the Machines (2003)', '\"Da Vinci Code', 'Napoleon Dynamite (2004)', 'Harry Potter and the Order of the Phoenix (2007)', '\"Pirates Who Don\\'t Do Anything: A VeggieTales Movie', 'Ernest Goes to School (1994)', 'Tootsie (1982)', 'War of the Worlds (2005)', 'Wicked City (Yôjû toshi) (1987)', '\"Illusionist', '3:10 to Yuma (2007)', 'Indiana Jones and the Kingdom of the Crystal Skull (2008)', \"Ocean's Thirteen (2007)\", 'Zoolander (2001)', 'Leprechaun 3 (1995)', '\"Curious Case of Benjamin Button', 'American Pie 2 (2001)', '\"Last Samurai', '\"Misérables', \"Ocean's Twelve (2004)\", 'Fahrenheit 9/11 (2004)', 'Kung Fu Panda (2008)', 'Cars (2006)', 'Gone with the Wind (1939)', 'Wallace & Gromit in The Curse of the Were-Rabbit (2005)', 'Saw (2004)', 'X-Men: The Last Stand (2006)', 'X-Men Origins: Wolverine (2009)', 'Batman (1989)', 'Fantastic Four (2005)', 'Hellboy II: The Golden Army (2008)', 'Hellboy (2004)', 'Batman: Mask of the Phantasm (1993)', 'Sky High (2005)', 'Batman (1966)', 'Fantastic Four: Rise of the Silver Surfer (2007)', 'Jumper (2008)', '\"Punisher', 'Superman II (1980)', 'TMNT (Teenage Mutant Ninja Turtles) (2007)', 'Teenage Mutant Ninja Turtles (1990)', 'Blankman (1994)', 'Daredevil (2003)', 'Elektra (2005)', 'Hulk (2003)', '\"Meteor Man', '\"Punisher', 'My Super Ex-Girlfriend (2006)', '\"Spirit', 'Catwoman (2004)', 'Super Size Me (2004)', 'Batman & Robin (1997)', 'Superman IV: The Quest for Peace (1987)', 'Constantine (2005)', 'Swamp Thing (1982)', '\"Return of Swamp Thing', 'Steel (1997)', 'Supergirl (1984)', 'Superman III (1983)', '\"Lost Boys', 'Labyrinth (1986)', 'Legend (1985)', 'Underworld: Evolution (2006)', 'Vampire Hunter D: Bloodlust (Banpaia hantâ D) (2000)', 'Night Watch (Nochnoy dozor) (2004)', \"Dracula (Bram Stoker's Dracula) (1992)\", 'Underworld (2003)', 'Fright Night (1985)', '30 Days of Night (2007)', 'Blade II (2002)', 'Blade: Trinity (2004)', 'Twilight (2008)', 'Dracula: Dead and Loving It (1995)', 'Once Bitten (1985)', 'Queen of the Damned (2002)', 'BloodRayne (2005)', '\"American Werewolf in London', '\"Wolf Man', '\"Howling', \"Silver Bullet (Stephen King's Silver Bullet) (1985)\", 'Teen Wolf (1985)', 'Underworld: Rise of the Lycans (2009)', 'Wolf (1994)', 'Wolfen (1981)', '\"American Werewolf in Paris', 'Bad Moon (1996)', 'Howling II: Your Sister Is a Werewolf (1985)', 'Howling IV: The Original Nightmare (1988)', 'Howling III: The Marsupials (1987)', 'Howling V: The Rebirth (1989)', 'Frankenstein (1931)', 'Corpse Bride (2005)', '\"Bride of Frankenstein', '\"Fall of the House of Usher', '\"Addams Family', '\"Crow: City of Angels', 'Frankenstein Unbound (1990)', 'Frankenstein Meets the Wolf Man (1943)', '\"Revenge of Frankenstein', '\"Satanic Rites of Dracula', 'Saw II (2005)', '\"Texas Chainsaw Massacre', '\"Crow', '\"Crow: Salvation', '\"League of Extraordinary Gentlemen', \"Pee-wee's Big Adventure (1985)\", 'Planet of the Apes (2001)', '\"Others', 'Abbott and Costello Meet Frankenstein (1948)', 'Emmanuelle (1974)', '\"Hitchhiker\\'s Guide to the Galaxy', 'Patriot Games (1992)', 'Vanilla Sky (2001)', 'Big Daddy (1999)', 'Who Am I? (Wo shi shei) (1998)', 'Final Fantasy: The Spirits Within (2001)', 'Forgetting Sarah Marshall (2008)', 'Training Day (2001)', 'Analyze This (1999)', 'Dodgeball: A True Underdog Story (2004)', 'Punch-Drunk Love (2002)', 'Charlie Chan in Shanghai (1935)', 'Witness (1985)', 'Say Anything... (1989)', 'Blow (2001)', 'Red Dragon (2002)', 'Team America: World Police (2004)', '\"Good Night', 'Hannibal (2001)', 'Time Bandits (1981)', 'Live Free or Die Hard (2007)', '\"Fast and the Furious', 'Bruce Almighty (2003)', 'Kung Fu Hustle (Gong fu) (2004)', 'Go (1999)', 'Insomnia (2002)', 'American Psycho (2000)', '\"Incredible Hulk', 'Star Trek: The Motion Picture (1979)', 'Backdraft (1991)', 'Ronin (1998)', 'Runaway Bride (1999)', 'Lara Croft: Tomb Raider (2001)', 'National Treasure (2004)', 'Identity (2003)', '\"People vs. Larry Flynt', '\"Cell', 'Rush Hour (1998)', 'Hell Comes to Frogtown (1988)', 'Legally Blonde (2001)', '\"Defender', '\"Me', '\"World Is Not Enough', 'Gone in 60 Seconds (2000)', 'Casper (1995)', 'Anchorman: The Legend of Ron Burgundy (2004)', 'Shanghai Noon (2000)', '50 First Dates (2004)', 'Matchstick Men (2003)', 'Lethal Weapon 3 (1992)', 'Capote (2005)', 'Ghostbusters II (1989)', 'Wise Guys (1986)', 'Transformers: Revenge of the Fallen (2009)', '\"Village', '\"Long Kiss Goodnight', '\"Femme Nikita', \"Cirque du Freak: The Vampire's Assistant (2009)\", 'Bowfinger (1999)', 'Mission: Impossible III (2006)', '\"Thing', '\"Island', 'Scarface (1983)', 'Ghost World (2001)', '\"Jungle Book', '\"Cider House Rules', 'Elf (2003)', 'Swordfish (2001)', 'Spy Game (2001)', 'Misery (1990)', 'Shaolin Kung Fu Mystagogue (Da mo mi zong) (1976)', '\"Thin Red Line', '\"Knight\\'s Tale', 'Sherlock Holmes (2009)', \"Charlie's Angels: Full Throttle (2003)\", 'Year of the Comet (1992)', 'Never Been Kissed (1999)', 'October Sky (1999)', 'Match Point (2005)', '\"Saint', 'JFK (1991)', 'Escape from New York (1981)', '8 Mile (2002)', '\"Negotiator', 'What About Bob? (1991)', '\"Last Emperor', '101 Dalmatians (One Hundred and One Dalmatians) (1961)', 'Pitch Black (2000)', 'How the Grinch Stole Christmas (a.k.a. The Grinch) (2000)', 'U-571 (2000)', 'Mission to Mars (2000)', \"Rosemary's Baby (1968)\", 'Cape Fear (1991)', 'King Kong (2005)', 'Dumbo (1941)', 'Dawn of the Dead (2004)', 'One Hour Photo (2002)', '\"Rocketeer', 'Peter Pan (1953)', 'K-PAX (2001)', '\"Animatrix', 'Rush Hour 2 (2001)', '\"Karate Kid', 'Home Alone 2: Lost in New York (1992)', 'Boyz N the Hood (1991)', '\"Bone Collector', 'Return of the Living Dead 3 (1993)', '\"Scanner Darkly', 'Mr. & Mrs. Smith (2005)', \"Project A ('A' gai waak) (1983)\", 'Clerks II (2006)', 'Death Proof (2007)', '\"Dark Crystal', '\"Inconvenient Truth', 'Shallow Hal (2001)', '\"Dirty Dozen', 'Miracle on 34th Street (1994)', 'Pay It Forward (2000)', '¡Three Amigos! (1986)', 'Starsky & Hutch (2004)', 'Scream 3 (2000)', 'Madagascar (2005)', 'G.I. Jane (1997)', '\"Fistful of Dollars', 'Space Cowboys (2000)', '\"Craft', 'Dr. Dolittle (1998)', 'Jarhead (2005)', 'Titan A.E. (2000)', 'Strange Days (1995)', 'I Know What You Did Last Summer (1997)', '\"Jerk', 'How the Grinch Stole Christmas! (1966)', 'Of Mice and Men (1992)', 'Gettysburg (1993)', '\"Secret of NIMH', \"Charlotte's Web (1973)\", '\"Ten Commandments', 'Manhunter (1986)', '\"Time Machine', '\"Big Sleep', '\"Bridge on the River Kwai', 'Once Were Warriors (1994)', '\"Maltese Falcon', 'Pride and Prejudice (1995)', \"Salem's Lot (1979)\", 'The Great Train Robbery (1978)', 'Oliver Twist (2005)', '\"Omen', 'Confessions of a Dangerous Mind (2002)', \"Nick and Norah's Infinite Playlist (2008)\", '\"Basketball Diaries', 'Enemy Mine (1985)', '\"Mist', '\"Chronicles of Narnia: The Lion', 'Journey to the Center of the Earth (1959)', '\"War of the Worlds', '\"World According to Garp', 'Chitty Chitty Bang Bang (1968)', '\"20', 'Holes (2003)', '1984 (1956)', 'Carrie (1976)', '\"Black Stallion', 'Chocolat (2000)', 'Fear and Loathing in Las Vegas (1998)', 'Fried Green Tomatoes (1991)', '\"Grapes of Wrath', 'Hedwig and the Angry Inch (2000)', '\"Incredible Shrinking Man', 'Lolita (1997)', '\"Merchant of Venice', 'Naked Lunch (1991)', '\"Name of the Rose', 'Major League (1989)', 'Reality Bites (1994)', 'Under Siege (1992)', '\"Passion of the Christ', 'Pineapple Express (2008)', 'Young Guns (1988)', 'Working Girl (1988)', 'Ice Age 2: The Meltdown (2006)', \"Look Who's Talking (1989)\", '\"Streetcar Named Desire', 'Father of the Bride (1991)', 'Point Break (1991)', 'Rocky III (1982)', '\"2 Fast 2 Furious (Fast and the Furious 2', 'Spy Hard (1996)', '\"Land That Time Forgot', '\"Officer and a Gentleman', '\"Secret Garden', '\"Girl', 'Spawn (1997)', '\"Quick and the Dead', 'Born on the Fourth of July (1989)', 'Shaft (2000)', 'Dirty Rotten Scoundrels (1988)', 'Tank Girl (1995)', 'Adventures in Babysitting (1987)', 'Moonraker (1979)', \"Logan's Run (1976)\", 'Rambo: First Blood Part II (1985)', 'RoboCop 2 (1990)', 'Sleeping Beauty (1959)', 'Showgirls (1995)', \"Bill & Ted's Bogus Journey (1991)\", 'Mr. Deeds (2002)', 'Night at the Museum (2006)', 'Ghost Dog: The Way of the Samurai (1999)', 'Stir of Echoes (1999)', 'Lara Croft Tomb Raider: The Cradle of Life (2003)', 'We Were Soldiers (2002)', 'First Blood (Rambo: First Blood) (1982)', 'Rat Race (2001)', '\"Frighteners', 'Rocky IV (1985)', 'Romeo Must Die (2000)', 'F/X (1986)', 'Resident Evil (2002)', 'Live and Let Die (1973)', 'Sweet Home Alabama (2002)', '\"Mighty Ducks', 'Click (2006)', 'Bad Boys II (2003)', 'Pink Floyd: The Wall (1982)', 'Star Trek: Nemesis (2002)', '\"Spy Who Loved Me', 'Kiss the Girls (1997)', 'Fantasia 2000 (1999)', '\"Return of the Pink Panther', '17 Again (2009)', 'Hot Shots! (1991)', 'Blades of Glory (2007)', 'Revenge of the Nerds (1984)', 'Serial Mom (1994)', 'Flatliners (1990)', '\"Man with the Golden Gun', 'Kingdom of Heaven (2005)', 'Innerspace (1987)', 'Role Models (2008)', '\"Recruit', '\"Jackal', '\"Twilight Saga: New Moon', \"Monty Python's And Now for Something Completely Different (1971)\", 'Battlefield Earth (2000)', 'Ghost in the Shell (Kôkaku kidôtai) (1995)', 'Days of Thunder (1990)', '\"Day the Earth Stood Still', 'Aeon Flux (2005)', 'U.S. Marshals (1998)', 'Shaolin Soccer (Siu lam juk kau) (2001)', 'Shanghai Knights (2003)', 'Kate & Leopold (2001)', 'Jackass: The Movie (2002)', 'Meet Joe Black (1998)', 'Gremlins 2: The New Batch (1990)', 'Licence to Kill (1989)', 'Bringing Out the Dead (1999)', 'Seven Years in Tibet (1997)', 'Crimes and Misdemeanors (1989)', '\"Mothman Prophecies', 'Igby Goes Down (2002)', \"Weekend at Bernie's (1989)\", '\"Adventures of Buckaroo Banzai Across the 8th Dimension', '\"Brothers Grimm', '\"Golden Child', 'Jaws 2 (1978)', '\"Thirteenth Floor', 'Toys (1992)', 'Twins (1988)', 'Ladyhawke (1985)', 'Kalifornia (1993)', 'Enter the Dragon (1973)', 'Howard the Duck (1986)', 'Super Mario Bros. (1993)', 'Milk Money (1994)', '\"To Wong Foo', 'Flashdance (1983)', 'Universal Soldier (1992)', '8MM (1999)', 'Beowulf (2007)', 'Sgt. Bilko (1996)', 'Brick (2005)', 'Primary Colors (1998)', 'Airheads (1994)', 'Friday the 13th (1980)', 'Footloose (1984)', 'Mr. Mom (1983)', 'Uncle Buck (1989)', 'Bicentennial Man (1999)', 'Ruthless People (1986)', 'Along Came a Spider (2001)', '\"Happening', '\"Money Pit', 'George of the Jungle (1997)', '\"Legend of Drunken Master', 'Changing Lanes (2002)', \"You Don't Mess with the Zohan (2008)\", '16 Blocks (2006)', '\"Witches of Eastwick', 'Black Sheep (1996)', 'Death Becomes Her (1992)', 'Flubber (1997)', 'Private Benjamin (1980)', \"William Shakespeare's A Midsummer Night's Dream (1999)\", 'Mannequin 2: On the Move (1991)', \"Look Who's Talking Now (1993)\", '\"King and I', 'Not Another Teen Movie (2001)', 'Throw Momma from the Train (1987)', '\"Blue Lagoon', 'Airplane II: The Sequel (1982)', 'Bio-Dome (1996)', 'Immortal Beloved (1994)', 'Bandits (2001)', '\"War of the Roses', 'Summer of Sam (1999)', 'Turner & Hooch (1989)', '\"Grudge', 'Happy Feet (2006)', 'Popeye (1980)', 'Evan Almighty (2007)', '\"View to a Kill', 'Little Nicky (2000)', 'Saw III (2006)', '\"Girl Next Door', 'Rambo III (1988)', '\"Charlie Brown Christmas', 'Deuce Bigalow: Male Gigolo (1999)', 'Confessions of a Superhero (2007)', '\"Parent Trap', 'Drop Dead Gorgeous (1999)', '\"Men Who Stare at Goats', 'Wyatt Earp (1994)', 'Bedknobs and Broomsticks (1971)', 'Frailty (2001)', 'Eddie Murphy Delirious (1983)', \"Three O'Clock High (1987)\", 'You Only Live Twice (1967)', 'Black Dynamite (2009)', 'Red Cliff (Chi bi) (2008)', 'Red Cliff Part II (Chi Bi Xia: Jue Zhan Tian Xia) (2009)', 'Quigley Down Under (1990)', 'Mulan (1998)', 'Falling Down (1993)', 'Some Folks Call It a Sling Blade (1993)', 'Crossroads (1986)', 'SLC Punk! (1998)', 'Casualties of War (1989)', 'Unleashed (Danny the Dog) (2005)', 'Hard Candy (2005)', 'Empire Records (1995)', 'Parenthood (1989)', 'Pump Up the Volume (1990)', 'Colors (1988)', 'Cannibal! The Musical (a.k.a. Alferd Packer: The Musical) (1996)', '\"Bill Cosby', 'Bubba Ho-tep (2002)', 'Beverly Hills Cop (1984)', 'Fear of a Black Hat (1994)', 'Johnny Dangerously (1984)', 'Jackass Number Two (2006)', 'Fletch (1985)', 'Old School (2003)', 'Eddie Murphy Raw (1987)', '\"Original Kings of Comedy', 'Choke (2008)', \"Lemony Snicket's A Series of Unfortunate Events (2004)\", 'Yes Man (2008)', 'Peggy Sue Got Married (1986)', \"Singin' in the Rain (1952)\", '\"Evil Dead', 'Benny & Joon (1993)', 'Wedding Crashers (2005)', '\"Aristocrats', 'Kiss Kiss Bang Bang (2005)', 'Running With Scissors (2006)', 'Dazed and Confused (1993)', 'Ichi the Killer (Koroshiya 1) (2001)', 'Master of the Flying Guillotine (Du bi quan wang da po xue di zi) (1975)', 'Rosencrantz and Guildenstern Are Dead (1990)', 'Election (1999)', '\"Birds', \"William Shakespeare's Romeo + Juliet (1996)\", 'Willow (1988)', 'Lethal Weapon 4 (1998)', 'That Thing You Do! (1996)', 'Mad Max (1979)', 'Billy Madison (1995)', 'Deliverance (1972)', 'Scary Movie (2000)', 'Chicago (2002)', '\"Doors', 'Night of the Living Dead (1968)', 'Rudy (1993)', \"Mary Shelley's Frankenstein (Frankenstein) (1994)\", 'Robin Hood: Prince of Thieves (1991)', 'L.A. Story (1991)', 'Road to Perdition (2002)', 'Pretty in Pink (1986)', '\"Lawnmower Man', '\"Sex', \"Pirates of the Caribbean: Dead Man's Chest (2006)\", '\"Mummy Returns', 'Sleeper (1973)', '\"Whole Nine Yards', 'Conan the Barbarian (1982)', 'Hamlet (1996)', 'Private Parts (1997)', '\"Jewel of the Nile', '\"Karate Kid', '\"Big Chill', 'Dick Tracy (1990)', 'Couples Retreat (2009)', 'Son of the Mask (2005)', 'Meet the Spartans (2008)', 'Leonard Part 6 (1987)', 'Larry the Cable Guy: Health Inspector (2006)', 'Jerry Springer: Ringmaster (1998)', '\"House of the Dead', 'Epic Movie (2007)', 'Zapped! (1982)', '\"Wicker Man', \"Weekend at Bernie's II (1993)\", 'Street Fighter (1994)', 'Suburban Commando (1991)', 'Superhero Movie (2008)', 'Teen Wolf Too (1987)', 'Town & Country (2001)', 'Ultraviolet (2006)', 'Urban Legends: Final Cut (2000)', 'Return to the Blue Lagoon (1991)', 'Revenge of the Nerds II: Nerds in Paradise (1987)', 'RoboCop 3 (1993)', 'Rocky V (1990)', 'She-Devil (1989)', 'Soul Plane (2004)', 'Species II (1998)', 'Munchies (1987)', 'My Demon Lover (1987)', '\"Nightmare on Elm Street 5: The Dream Child', 'Pauly Shore Is Dead (2003)', '\"Pest', 'Pet Sematary II (1992)', 'Police Academy 3: Back in Training (1986)', 'Police Academy 4: Citizens on Patrol (1987)', 'Police Academy 5: Assignment: Miami Beach (1988)', 'Police Academy 6: City Under Siege (1989)', 'Poltergeist III (1988)', 'Jason Goes to Hell: The Final Friday (1993)', 'Jason X (2002)', 'Kickboxer 2: The Road Back (1991)', 'Major League: Back to the Minors (1998)', 'Fist of the North Star (1995)', 'Freddy Got Fingered (2001)', '\"Garbage Pail Kids Movie', 'Friday the 13th Part IV: The Final Chapter (1984)', 'Friday the 13th Part V: A New Beginning (1985)', 'Friday the 13th Part VI: Jason Lives (1986)', 'Friday the 13th Part VII: The New Blood (1988)', '\"Honey', 'House Party 2 (1991)', 'Corky Romano (2001)', 'Critters 3 (1991)', 'Death Wish 3 (1985)', 'Death Wish 4: The Crackdown (1987)', 'Death Wish 5: The Face of Death (1994)', 'Deuce Bigalow: European Gigolo (2005)', 'Dungeons & Dragons (2000)', 'Ernest Goes to Jail (1990)', 'Ernest Goes to Camp (1987)', 'Basic Instinct 2 (2006)', 'Best Defense (1984)', 'Bones (2001)', \"Bride of Chucky (Child's Play 4) (1998)\", 'C.H.U.D. II - Bud the Chud (1989)', '\"Cat in the Hat', \"Porky's (1982)\", '\"Seventh Sign', 'Final Destination (2000)', \"White Men Can't Jump (1992)\", '\"Adventures of Pluto Nash', 'Young Einstein (1988)', 'AVP: Alien vs. Predator (2004)', 'xXx (2002)', '\"Welcome Home', 'White Chicks (2004)', 'Wishmaster (1997)', '\"Wiz', 'Volunteers (1985)', 'Tomcats (2001)', '\"Toy', 'Transylvania 6-5000 (1985)', 'Troop Beverly Hills (1989)', '\"Stepford Wives', 'Stone Cold (1991)', 'Strange Wilderness (2008)', '\"Super', 'Tales from the Crypt Presents: Bordello of Blood (1996)', 'Tango & Cash (1989)', 'Taxi (2004)', '\"Skulls', 'Sleepwalkers (1992)', 'Snake Eyes (1998)', 'Spaced Invaders (1990)', 'Star Kid (1997)', 'Sphere (1998)', 'Scary Movie 4 (2006)', 'Scooby-Doo (2002)', 'Saw V (2008)', 'Saw VI (2009)', 'Saw IV (2007)', '\"Shrimp on the Barbie', 'Sidekicks (1992)', 'Sister Act 2: Back in the Habit (1993)', 'Six Pack (1982)', 'Repossessed (1990)', 'Richie Rich (1994)', '\"Ring Two', 'Road House (1989)', '\"Road to Wellville', 'Santa Claus: The Movie (1985)', '\"Santa Clause 2', '\"Santa Clause 3: The Escape Clause', 'Saving Silverman (Evil Woman) (2001)', 'Pumpkinhead (1988)', 'Red Sonja (1985)', '\"Pacifier', 'Paul Blart: Mall Cop (2009)', 'Phantasm III: Lord of the Dead (1994)', 'Phantasm IV: Oblivion (1998)', '\"Night at the Roxbury', '\"Nightmare on Elm Street 3: Dream Warriors', '\"Nightmare on Elm Street 4: The Dream Master', '\"Nightmare on Elm Street 2: Freddy\\'s Revenge', '\"Nude Bomb', 'Nutty Professor II: The Klumps (2000)', '\"Oh', '\"Oh', 'Monkey Shines (1988)', 'Monkeybone (2001)', 'Gosford Park (2001)', 'Twilight Zone: The Movie (1983)', 'Martian Child (2007)', 'City of Ember (2008)', 'Green Lantern: First Flight (2009)', 'How to Train Your Dragon (2010)', 'Dragonslayer (1981)', 'Eragon (2006)', \"Pete's Dragon (1977)\", '\"Adventures of Baron Munchausen', 'The Count of Monte Cristo (2002)', '\"Last Unicorn', '\"Sword in the Stone', '\"Lord of the Rings', 'Krull (1983)', 'Freaky Friday (1977)', '\"Fast and the Furious: Tokyo Drift', 'Flight of the Navigator (1986)', \"King Solomon's Mines (1985)\", 'Zathura (2005)', 'Sunshine (2007)', 'Explorers (1985)', '\"Chronicles of Riddick', '\"Black Hole', 'SpaceCamp (1986)', '\"Twilight Saga: Eclipse']\n",
      "Recommendations\n",
      "Item: Django Unchained (2012) | weight: 0.06466649241263205\n",
      "Item: \"Wolf of Wall Street | weight: 0.05886938975459328\n",
      "Item: Harry Potter and the Deathly Hallows: Part 2 (2011) | weight: 0.05761497966128292\n",
      "Item: \"Hobbit: The Desolation of Smaug | weight: 0.05761497966128292\n",
      "Item: Avengers: Infinity War - Part II (2019) | weight: 0.05506989528482024\n",
      "---\n",
      "\n",
      "User watched\n",
      "['Sense and Sensibility (1995)', '\"Birdcage', 'Twister (1996)', 'Independence Day (a.k.a. ID4) (1996)', 'Leaving Las Vegas (1995)', \"Mr. Holland's Opus (1995)\", 'Grumpier Old Men (1995)', 'Heat (1995)', 'Sabrina (1995)', 'Dead Man Walking (1995)', '\"River Wild', 'Fargo (1996)', 'Mighty Aphrodite (1995)', '\"Postman', '\"Truth About Cats & Dogs', '\"Nutty Professor', 'Willy Wonka & the Chocolate Factory (1971)', '\"Time to Kill', 'Homeward Bound II: Lost in San Francisco (1996)', 'Mulholland Falls (1996)', 'Flipper (1996)', 'Cold Comfort Farm (1995)', 'Moll Flanders (1996)', '\"Cry', '\"English Patient', 'Jingle All the Way (1996)', '\"Mirror Has Two Faces', 'Secrets & Lies (1996)', '\"Preacher\\'s Wife']\n",
      "Recommendations\n",
      "Item: Pulp Fiction (1994) | weight: 0.1552654194727233\n",
      "Item: \"Shawshank Redemption | weight: 0.14625295866809737\n",
      "Item: \"Matrix | weight: 0.14625295866809737\n",
      "Item: Arrival (2016) | weight: 0.14625295866809737\n",
      "Item: Star Wars: Episode IV - A New Hope (1977) | weight: 0.14572104756048193\n",
      "---\n",
      "\n",
      "User watched\n",
      "['Charlie and the Chocolate Factory (2005)', 'Serenity (2005)', 'Star Trek (2009)', 'Star Wars: Episode VI - Return of the Jedi (1983)', 'Star Wars: Episode V - The Empire Strikes Back (1980)', '\"Avengers', 'Iron Man (2008)', '\"Incredibles', 'Pirates of the Caribbean: The Curse of the Black Pearl (2003)', 'Star Wars: Episode VII - The Force Awakens (2015)', 'Star Trek Into Darkness (2013)', 'Sherlock Holmes (2009)', 'Sherlock Holmes: A Game of Shadows (2011)', 'Avatar (2009)', 'Captain America: The Winter Soldier (2014)', 'Kill Bill: Vol. 1 (2003)', 'District 9 (2009)', 'X-Men: Days of Future Past (2014)', 'X-Men: First Class (2011)', 'How to Train Your Dragon 2 (2014)', 'Scott Pilgrim vs. the World (2010)', '\"Hobbit: An Unexpected Journey', 'Kingsman: The Secret Service (2015)', 'The Lego Movie (2014)', 'Kick-Ass (2010)', 'The Man from U.N.C.L.E. (2015)', 'Avengers: Age of Ultron (2015)', 'Megamind (2010)', 'X2: X-Men United (2003)', 'The Hunger Games: Catching Fire (2013)', 'Iron Man 3 (2013)', 'Independence Day: Resurgence (2016)', 'Ant-Man (2015)', '21 Jump Street (2012)', 'Iron Man 2 (2010)', 'Brave (2012)', 'X-Men (2000)', 'Men in Black (a.k.a. MIB) (1997)', 'Chicago (2002)', 'Captain America: The First Avenger (2011)', 'Benny & Joon (1993)', 'Spider-Man (2002)', 'Meet the Fockers (2004)', 'Something New (2006)']\n",
      "Recommendations\n",
      "Item: Shrek (2001) | weight: 0.836167124628055\n",
      "Item: \"Lord of the Rings: The Return of the King | weight: 0.836167124628055\n",
      "Item: Forrest Gump (1994) | weight: 0.8142985184699681\n",
      "Item: \"Dark Knight | weight: 0.7922586569020439\n",
      "Item: Up (2009) | weight: 0.7731974353804134\n",
      "---\n"
     ]
    }
   ],
   "source": [
    "for ts in test_sessions:\n",
    "    print('User watched')\n",
    "    print(str([get_movie_name(x) for x in ts[0]]))\n",
    "    print('Recommendations')\n",
    "    recs = model.recommend(ts)\n",
    "    for rec in recs:\n",
    "        print('Item:', get_movie_name(rec[0]), '| weight:', rec[1])\n",
    "    print('---')\n",
    "    print('')\n",
    "    "
   ],
   "metadata": {
    "collapsed": false,
    "ExecuteTime": {
     "end_time": "2023-08-28T11:08:51.323060598Z",
     "start_time": "2023-08-28T11:08:38.692945396Z"
    }
   }
  },
  {
   "cell_type": "code",
   "execution_count": 16,
   "outputs": [],
   "source": [
    "# Score system"
   ],
   "metadata": {
    "collapsed": false,
    "ExecuteTime": {
     "end_time": "2023-08-28T11:09:11.507896692Z",
     "start_time": "2023-08-28T11:09:11.493392705Z"
    }
   }
  },
  {
   "cell_type": "code",
   "execution_count": 21,
   "outputs": [],
   "source": [
    "test_sessions = get_sample_sessions(set_of_sessions=ds['session-map'], n_sessions=500)\n",
    "scores = score_model(test_sessions, model, k=5, skip_short_sessions=True, sliding_window=False)"
   ],
   "metadata": {
    "collapsed": false,
    "ExecuteTime": {
     "end_time": "2023-08-28T11:31:21.973552390Z",
     "start_time": "2023-08-28T11:26:09.400369857Z"
    }
   }
  },
  {
   "cell_type": "code",
   "execution_count": 22,
   "outputs": [
    {
     "name": "stdout",
     "output_type": "stream",
     "text": [
      "{'MRR': 0.4972666666666667, 'Precision': 0.324, 'Recall': 0.020594599441273644}\n"
     ]
    }
   ],
   "source": [
    "print(scores)"
   ],
   "metadata": {
    "collapsed": false,
    "ExecuteTime": {
     "end_time": "2023-08-28T11:31:21.977798273Z",
     "start_time": "2023-08-28T11:31:21.973206634Z"
    }
   }
  },
  {
   "cell_type": "code",
   "execution_count": null,
   "outputs": [],
   "source": [],
   "metadata": {
    "collapsed": false
   }
  }
 ],
 "metadata": {
  "kernelspec": {
   "display_name": "Python 3",
   "language": "python",
   "name": "python3"
  },
  "language_info": {
   "codemirror_mode": {
    "name": "ipython",
    "version": 2
   },
   "file_extension": ".py",
   "mimetype": "text/x-python",
   "name": "python",
   "nbconvert_exporter": "python",
   "pygments_lexer": "ipython2",
   "version": "2.7.6"
  }
 },
 "nbformat": 4,
 "nbformat_minor": 0
}
