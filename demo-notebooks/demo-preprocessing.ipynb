{
 "cells": [
  {
   "cell_type": "code",
   "execution_count": 1,
   "outputs": [],
   "source": [
    "from wsknn.preprocessing.parse_static import parse_files\n",
    "from wsknn.preprocessing.structure.item import Items\n",
    "from wsknn.preprocessing.structure.session import Sessions"
   ],
   "metadata": {
    "collapsed": false,
    "pycharm": {
     "name": "#%%\n"
    }
   }
  },
  {
   "cell_type": "code",
   "execution_count": 7,
   "outputs": [],
   "source": [
    "# Weights mapping\n",
    "POSSIBLE_ACTIONS = {'products_view': 0.1,\n",
    "                    'purchase': 1,\n",
    "                    'add_to_wishlist': 0.3,\n",
    "                    'add_to_cart': 0.5}\n",
    "\n",
    "PURCHASE_ACTION_NAME = 'purchase'\n",
    "\n",
    "# files with data\n",
    "SESSIONS = ['demo-data/demo-events/events1.json',\n",
    "            'demo-data/demo-events/events2.json',\n",
    "            'demo-data/demo-events/events3.json']\n",
    "\n",
    "# Keys\n",
    "SESSION_KEY = 'sid'\n",
    "PRODUCT_KEY = 'pid'\n",
    "ACTION_KEY = 'act'\n",
    "TIME_KEY = 'ts'"
   ],
   "metadata": {
    "collapsed": false,
    "pycharm": {
     "name": "#%%\n"
    }
   }
  },
  {
   "cell_type": "code",
   "execution_count": 3,
   "outputs": [],
   "source": [
    "session_map = Sessions(\n",
    "    event_session_key=SESSION_KEY,\n",
    "    event_product_key=PRODUCT_KEY,\n",
    "    event_time_key=TIME_KEY,\n",
    "    event_action_key=ACTION_KEY,\n",
    "    event_action_weights=POSSIBLE_ACTIONS\n",
    ")\n",
    "\n",
    "item_map = Items(\n",
    "    event_session_key=SESSION_KEY,\n",
    "    event_product_key=PRODUCT_KEY,\n",
    "    event_time_key=TIME_KEY\n",
    ")"
   ],
   "metadata": {
    "collapsed": false,
    "pycharm": {
     "name": "#%%\n"
    }
   }
  },
  {
   "cell_type": "code",
   "execution_count": 4,
   "outputs": [
    {
     "name": "stdout",
     "output_type": "stream",
     "text": [
      "Empty object. Append events or load pickled session-items map!\n"
     ]
    }
   ],
   "source": [
    "print(session_map)"
   ],
   "metadata": {
    "collapsed": false,
    "pycharm": {
     "name": "#%%\n"
    }
   }
  },
  {
   "cell_type": "code",
   "execution_count": 5,
   "outputs": [
    {
     "name": "stdout",
     "output_type": "stream",
     "text": [
      "Empty object. Append events or load pickled item-sessions map!\n"
     ]
    }
   ],
   "source": [
    "print(item_map)"
   ],
   "metadata": {
    "collapsed": false,
    "pycharm": {
     "name": "#%%\n"
    }
   }
  },
  {
   "cell_type": "code",
   "execution_count": 8,
   "outputs": [],
   "source": [
    "for ds in SESSIONS:\n",
    "\n",
    "    out_item, out_session = parse_files(ds,\n",
    "                                        allowed_actions=POSSIBLE_ACTIONS,\n",
    "                                        purchase_action_name=PURCHASE_ACTION_NAME,\n",
    "                                        session_id_key=SESSION_KEY,\n",
    "                                        product_key=PRODUCT_KEY,\n",
    "                                        action_key=ACTION_KEY,\n",
    "                                        time_key=TIME_KEY,\n",
    "                                        time_to_numeric=True,\n",
    "                                        time_to_datetime=False,\n",
    "                                        datetime_format='')\n",
    "\n",
    "    # update\n",
    "    item_map = item_map + out_item\n",
    "    session_map = session_map + out_session"
   ],
   "metadata": {
    "collapsed": false,
    "pycharm": {
     "name": "#%%\n"
    }
   }
  },
  {
   "cell_type": "code",
   "execution_count": 9,
   "outputs": [
    {
     "name": "stdout",
     "output_type": "stream",
     "text": [
      "Sessions object statistics:\n",
      "*Number of unique sessions: 5\n",
      "*The longest event stream size per session: 11\n",
      "*Period start: 1652255998993.0\n",
      "*Period end: 1852255999060.0\n"
     ]
    }
   ],
   "source": [
    "print(session_map)"
   ],
   "metadata": {
    "collapsed": false,
    "pycharm": {
     "name": "#%%\n"
    }
   }
  },
  {
   "cell_type": "code",
   "execution_count": 10,
   "outputs": [
    {
     "name": "stdout",
     "output_type": "stream",
     "text": [
      "Items object statistics:\n",
      "*Number of unique items: 6\n",
      "*The longest sessions vector size: 5\n",
      "*Period start: 1652255998993.0\n",
      "*Period end: 1852255999060.0\n"
     ]
    }
   ],
   "source": [
    "print(item_map)"
   ],
   "metadata": {
    "collapsed": false,
    "pycharm": {
     "name": "#%%\n"
    }
   }
  },
  {
   "cell_type": "code",
   "execution_count": 12,
   "outputs": [],
   "source": [
    "session_map.export_to_dict('demo-data/demo-events/output_session_mapping.pkl')"
   ],
   "metadata": {
    "collapsed": false,
    "pycharm": {
     "name": "#%%\n"
    }
   }
  },
  {
   "cell_type": "code",
   "execution_count": null,
   "outputs": [],
   "source": [],
   "metadata": {
    "collapsed": false,
    "pycharm": {
     "name": "#%%\n"
    }
   }
  }
 ],
 "metadata": {
  "kernelspec": {
   "display_name": "Python 3",
   "language": "python",
   "name": "python3"
  },
  "language_info": {
   "codemirror_mode": {
    "name": "ipython",
    "version": 2
   },
   "file_extension": ".py",
   "mimetype": "text/x-python",
   "name": "python",
   "nbconvert_exporter": "python",
   "pygments_lexer": "ipython2",
   "version": "2.7.6"
  }
 },
 "nbformat": 4,
 "nbformat_minor": 0
}