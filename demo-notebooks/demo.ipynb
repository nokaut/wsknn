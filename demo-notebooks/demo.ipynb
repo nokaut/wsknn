{
 "cells": [
  {
   "cell_type": "code",
   "execution_count": 9,
   "metadata": {
    "collapsed": true
   },
   "outputs": [],
   "source": [
    "import numpy as np\n",
    "from wsknn import fit, predict\n",
    "from wsknn.utils import parse_settings, load_pickled\n",
    "from wsknn.evaluate import mean_reciprocal_rank"
   ]
  },
  {
   "cell_type": "code",
   "execution_count": 2,
   "outputs": [],
   "source": [
    "# Load data\n",
    "ITEMS = 'demo-data/items.pkl'\n",
    "SESSIONS = 'demo-data/sessions.pkl'"
   ],
   "metadata": {
    "collapsed": false,
    "pycharm": {
     "name": "#%%\n"
    }
   }
  },
  {
   "cell_type": "code",
   "execution_count": 3,
   "outputs": [],
   "source": [
    "items = load_pickled(ITEMS)\n",
    "sessions = load_pickled(SESSIONS)"
   ],
   "metadata": {
    "collapsed": false,
    "pycharm": {
     "name": "#%%\n"
    }
   }
  },
  {
   "cell_type": "code",
   "execution_count": 4,
   "outputs": [
    {
     "data": {
      "text/plain": "dict_keys(['map', 'time_start', 'time_end', 'longest_sessions_vector_size', 'number_of_items', 'metadata'])"
     },
     "execution_count": 4,
     "metadata": {},
     "output_type": "execute_result"
    }
   ],
   "source": [
    "items.keys()"
   ],
   "metadata": {
    "collapsed": false,
    "pycharm": {
     "name": "#%%\n"
    }
   }
  },
  {
   "cell_type": "code",
   "execution_count": 6,
   "outputs": [
    {
     "name": "stdout",
     "output_type": "stream",
     "text": [
      "\n",
      "        The items object is a dictionary of unique items (keys) that are pointing to the specific sessions and their \n",
      "        timestamps (lists).\n",
      "\n",
      "        Key map:\n",
      "        \n",
      "        item_sessions_map = {\n",
      "            item_id: (\n",
      "                [sequence_of_sessions],\n",
      "                [sequence_of_the_first_session_timestamps]\n",
      "            )\n",
      "        }\n",
      "    \n",
      "        Other keys:\n",
      "        - time_start: the first date in a dataset.\n",
      "        - time_end: the last date in a dataset.\n",
      "        - longest_sessions_vector_size: size of the longest sequence sessions,\n",
      "        - number_of_items: the length of item_sessions_map.\n",
      "        \n"
     ]
    }
   ],
   "source": [
    "print(items['metadata'])"
   ],
   "metadata": {
    "collapsed": false,
    "pycharm": {
     "name": "#%%\n"
    }
   }
  },
  {
   "cell_type": "code",
   "execution_count": 7,
   "outputs": [],
   "source": [
    "imap = items['map']\n",
    "smap = sessions['map']"
   ],
   "metadata": {
    "collapsed": false,
    "pycharm": {
     "name": "#%%\n"
    }
   }
  },
  {
   "cell_type": "code",
   "execution_count": 8,
   "outputs": [],
   "source": [
    "trained_model = fit(smap, imap)"
   ],
   "metadata": {
    "collapsed": false,
    "pycharm": {
     "name": "#%%\n"
    }
   }
  },
  {
   "cell_type": "code",
   "execution_count": 24,
   "outputs": [],
   "source": [
    "def get_sample_sessions(set_of_sessions, n_sessions=100):\n",
    "    sessions_keys = list(set_of_sessions.keys())\n",
    "    key_sample = np.random.choice(sessions_keys, n_sessions)\n",
    "    sampled = {dk: set_of_sessions[dk] for dk in key_sample}\n",
    "    return sampled\n",
    "\n",
    "test_sessions = get_sample_sessions(smap)"
   ],
   "metadata": {
    "collapsed": false,
    "pycharm": {
     "name": "#%%\n"
    }
   }
  },
  {
   "cell_type": "code",
   "execution_count": 50,
   "outputs": [
    {
     "ename": "TooShortSessionException",
     "evalue": "Given session length 5 is shorter than the top n recommendations 5.\nIt is not possible to make a valid evaluation.",
     "output_type": "error",
     "traceback": [
      "\u001B[0;31m---------------------------------------------------------------------------\u001B[0m",
      "\u001B[0;31mTooShortSessionException\u001B[0m                  Traceback (most recent call last)",
      "Input \u001B[0;32mIn [50]\u001B[0m, in \u001B[0;36m<cell line: 1>\u001B[0;34m()\u001B[0m\n\u001B[0;32m----> 1\u001B[0m mrr \u001B[38;5;241m=\u001B[39m \u001B[43mmean_reciprocal_rank\u001B[49m\u001B[43m(\u001B[49m\u001B[43mtest_sessions\u001B[49m\u001B[43m,\u001B[49m\u001B[43m \u001B[49m\u001B[43mtrained_model\u001B[49m\u001B[43m,\u001B[49m\u001B[43m \u001B[49m\u001B[43mr_number\u001B[49m\u001B[38;5;241;43m=\u001B[39;49m\u001B[38;5;241;43m5\u001B[39;49m\u001B[43m,\u001B[49m\u001B[43m \u001B[49m\u001B[43mskip_short_sessions\u001B[49m\u001B[38;5;241;43m=\u001B[39;49m\u001B[38;5;28;43;01mFalse\u001B[39;49;00m\u001B[43m)\u001B[49m\n",
      "File \u001B[0;32m~/Documents/repos/vsknn-model/vsknn/evaluate/metrics.py:53\u001B[0m, in \u001B[0;36mmean_reciprocal_rank\u001B[0;34m(sessions, trained_model, r_number, skip_short_sessions)\u001B[0m\n\u001B[1;32m     51\u001B[0m         \u001B[38;5;28;01mpass\u001B[39;00m\n\u001B[1;32m     52\u001B[0m     \u001B[38;5;28;01melse\u001B[39;00m:\n\u001B[0;32m---> 53\u001B[0m         \u001B[38;5;28;01mraise\u001B[39;00m TooShortSessionException(s_length, r_number)\n\u001B[1;32m     54\u001B[0m \u001B[38;5;28;01melse\u001B[39;00m:\n\u001B[1;32m     55\u001B[0m     test_session \u001B[38;5;241m=\u001B[39m [x[:\u001B[38;5;241m-\u001B[39mr_number] \u001B[38;5;28;01mfor\u001B[39;00m x \u001B[38;5;129;01min\u001B[39;00m session]\n",
      "\u001B[0;31mTooShortSessionException\u001B[0m: Given session length 5 is shorter than the top n recommendations 5.\nIt is not possible to make a valid evaluation."
     ]
    }
   ],
   "source": [
    "mrr = mean_reciprocal_rank(test_sessions, trained_model, r_number=5, skip_short_sessions=False)"
   ],
   "metadata": {
    "collapsed": false,
    "pycharm": {
     "name": "#%%\n"
    }
   }
  },
  {
   "cell_type": "code",
   "execution_count": 48,
   "outputs": [],
   "source": [
    "mrr = mean_reciprocal_rank(test_sessions, trained_model, r_number=10, skip_short_sessions=True)"
   ],
   "metadata": {
    "collapsed": false,
    "pycharm": {
     "name": "#%%\n"
    }
   }
  },
  {
   "cell_type": "code",
   "execution_count": 49,
   "outputs": [
    {
     "data": {
      "text/plain": "0.0"
     },
     "execution_count": 49,
     "metadata": {},
     "output_type": "execute_result"
    }
   ],
   "source": [
    "mrr"
   ],
   "metadata": {
    "collapsed": false,
    "pycharm": {
     "name": "#%%\n"
    }
   }
  },
  {
   "cell_type": "code",
   "execution_count": null,
   "outputs": [],
   "source": [],
   "metadata": {
    "collapsed": false,
    "pycharm": {
     "name": "#%%\n"
    }
   }
  }
 ],
 "metadata": {
  "kernelspec": {
   "display_name": "Python 3",
   "language": "python",
   "name": "python3"
  },
  "language_info": {
   "codemirror_mode": {
    "name": "ipython",
    "version": 2
   },
   "file_extension": ".py",
   "mimetype": "text/x-python",
   "name": "python",
   "nbconvert_exporter": "python",
   "pygments_lexer": "ipython2",
   "version": "2.7.6"
  }
 },
 "nbformat": 4,
 "nbformat_minor": 0
}