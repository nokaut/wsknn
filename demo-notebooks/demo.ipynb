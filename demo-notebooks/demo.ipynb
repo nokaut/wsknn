{
 "cells": [
  {
   "cell_type": "code",
   "execution_count": 14,
   "metadata": {
    "collapsed": true,
    "pycharm": {
     "name": "#%%\n"
    }
   },
   "outputs": [],
   "source": [
    "import numpy as np\n",
    "from wsknn import fit\n",
    "from wsknn.utils import load_gzipped_pickle\n",
    "from wsknn.evaluate import score_model"
   ]
  },
  {
   "cell_type": "code",
   "execution_count": 15,
   "metadata": {
    "pycharm": {
     "name": "#%%\n"
    }
   },
   "outputs": [],
   "source": [
    "# Load data\n",
    "ITEMS = 'demo-data/recsys-2015/parsed_items.pkl.gz'\n",
    "SESSIONS = 'demo-data/recsys-2015/parsed_sessions.pkl.gz'"
   ]
  },
  {
   "cell_type": "code",
   "execution_count": 16,
   "metadata": {
    "pycharm": {
     "name": "#%%\n"
    }
   },
   "outputs": [],
   "source": [
    "items = load_gzipped_pickle(ITEMS)\n",
    "sessions = load_gzipped_pickle(SESSIONS)"
   ]
  },
  {
   "cell_type": "code",
   "execution_count": 17,
   "metadata": {
    "pycharm": {
     "name": "#%%\n"
    }
   },
   "outputs": [
    {
     "data": {
      "text/plain": "dict_keys(['map'])"
     },
     "execution_count": 17,
     "metadata": {},
     "output_type": "execute_result"
    }
   ],
   "source": [
    "items.keys()"
   ]
  },
  {
   "cell_type": "code",
   "execution_count": 18,
   "metadata": {
    "pycharm": {
     "name": "#%%\n"
    }
   },
   "outputs": [],
   "source": [
    "imap = items['map']\n",
    "smap = sessions['map']"
   ]
  },
  {
   "cell_type": "code",
   "execution_count": 19,
   "metadata": {
    "pycharm": {
     "name": "#%%\n"
    }
   },
   "outputs": [],
   "source": [
    "trained_model = fit(smap, imap)"
   ]
  },
  {
   "cell_type": "code",
   "execution_count": 20,
   "metadata": {
    "pycharm": {
     "name": "#%%\n"
    }
   },
   "outputs": [],
   "source": [
    "def get_sample_sessions(set_of_sessions, n_sessions=1000):\n",
    "    sessions_keys = list(set_of_sessions.keys())\n",
    "    key_sample = np.random.choice(sessions_keys, n_sessions)\n",
    "    sampled = {dk: set_of_sessions[dk] for dk in key_sample}\n",
    "    return sampled\n",
    "\n",
    "test_sessions = get_sample_sessions(smap)"
   ]
  },
  {
   "cell_type": "code",
   "execution_count": 21,
   "metadata": {
    "pycharm": {
     "name": "#%%\n"
    }
   },
   "outputs": [
    {
     "ename": "TooShortSessionException",
     "evalue": "Given session length 2 is shorter than the top n recommendations 5.\nIt is not possible to make a valid evaluation.",
     "output_type": "error",
     "traceback": [
      "\u001B[0;31m---------------------------------------------------------------------------\u001B[0m",
      "\u001B[0;31mTooShortSessionException\u001B[0m                  Traceback (most recent call last)",
      "Input \u001B[0;32mIn [21]\u001B[0m, in \u001B[0;36m<cell line: 1>\u001B[0;34m()\u001B[0m\n\u001B[0;32m----> 1\u001B[0m scores \u001B[38;5;241m=\u001B[39m \u001B[43mscore_model\u001B[49m\u001B[43m(\u001B[49m\u001B[43mtest_sessions\u001B[49m\u001B[43m,\u001B[49m\u001B[43m \u001B[49m\u001B[43mtrained_model\u001B[49m\u001B[43m,\u001B[49m\u001B[43m \u001B[49m\u001B[43mk\u001B[49m\u001B[38;5;241;43m=\u001B[39;49m\u001B[38;5;241;43m5\u001B[39;49m\u001B[43m,\u001B[49m\u001B[43m \u001B[49m\u001B[43mskip_short_sessions\u001B[49m\u001B[38;5;241;43m=\u001B[39;49m\u001B[38;5;28;43;01mFalse\u001B[39;49;00m\u001B[43m)\u001B[49m\n",
      "File \u001B[0;32m~/Documents/GitHub/wsknn/wsknn/evaluate/metrics.py:44\u001B[0m, in \u001B[0;36mscore_model\u001B[0;34m(sessions, trained_model, k, skip_short_sessions)\u001B[0m\n\u001B[1;32m     41\u001B[0m k, trained_model \u001B[38;5;241m=\u001B[39m _set_number_of_recommendations(k, trained_model)\n\u001B[1;32m     43\u001B[0m \u001B[38;5;28;01mfor\u001B[39;00m session_k, session \u001B[38;5;129;01min\u001B[39;00m sessions\u001B[38;5;241m.\u001B[39mitems():\n\u001B[0;32m---> 44\u001B[0m     eval_items, predictions \u001B[38;5;241m=\u001B[39m \u001B[43m_prepare_metrics_data\u001B[49m\u001B[43m(\u001B[49m\u001B[43msession\u001B[49m\u001B[43m,\u001B[49m\u001B[43m \u001B[49m\u001B[43msession_k\u001B[49m\u001B[43m,\u001B[49m\u001B[43m \u001B[49m\u001B[43mk\u001B[49m\u001B[43m,\u001B[49m\u001B[43m \u001B[49m\u001B[43mtrained_model\u001B[49m\u001B[43m,\u001B[49m\u001B[43m \u001B[49m\u001B[43mskip_short_sessions\u001B[49m\u001B[43m)\u001B[49m\n\u001B[1;32m     46\u001B[0m     preds \u001B[38;5;241m=\u001B[39m predictions[session_k]\n\u001B[1;32m     48\u001B[0m     \u001B[38;5;66;03m# Get rank\u001B[39;00m\n",
      "File \u001B[0;32m~/Documents/GitHub/wsknn/wsknn/evaluate/metrics.py:282\u001B[0m, in \u001B[0;36m_prepare_metrics_data\u001B[0;34m(session, session_key, k, trained_model, skip_short_sessions)\u001B[0m\n\u001B[1;32m    256\u001B[0m \u001B[38;5;124;03m\"\"\"\u001B[39;00m\n\u001B[1;32m    257\u001B[0m \u001B[38;5;124;03mFunction prepares metrics data.\u001B[39;00m\n\u001B[1;32m    258\u001B[0m \n\u001B[0;32m   (...)\u001B[0m\n\u001B[1;32m    278\u001B[0m \u001B[38;5;124;03m    (relevant items, recommended items)\u001B[39;00m\n\u001B[1;32m    279\u001B[0m \u001B[38;5;124;03m\"\"\"\u001B[39;00m\n\u001B[1;32m    280\u001B[0m s_length \u001B[38;5;241m=\u001B[39m \u001B[38;5;28mlen\u001B[39m(session[\u001B[38;5;241m0\u001B[39m])\n\u001B[0;32m--> 282\u001B[0m \u001B[43m_should_raise_short_session_exception\u001B[49m\u001B[43m(\u001B[49m\u001B[43ms_length\u001B[49m\u001B[43m,\u001B[49m\u001B[43m \u001B[49m\u001B[43mk\u001B[49m\u001B[43m,\u001B[49m\u001B[43m \u001B[49m\u001B[43mskip_short_sessions\u001B[49m\u001B[43m)\u001B[49m\n\u001B[1;32m    284\u001B[0m relevant_items, recommends \u001B[38;5;241m=\u001B[39m _get_test_eval_preds(session, session_key, k, trained_model)\n\u001B[1;32m    285\u001B[0m \u001B[38;5;28;01mreturn\u001B[39;00m relevant_items, recommends\n",
      "File \u001B[0;32m~/Documents/GitHub/wsknn/wsknn/evaluate/metrics.py:371\u001B[0m, in \u001B[0;36m_should_raise_short_session_exception\u001B[0;34m(s_length, k, skip_short)\u001B[0m\n\u001B[1;32m    369\u001B[0m     \u001B[38;5;28;01mpass\u001B[39;00m\n\u001B[1;32m    370\u001B[0m \u001B[38;5;28;01melse\u001B[39;00m:\n\u001B[0;32m--> 371\u001B[0m     \u001B[38;5;28;01mraise\u001B[39;00m TooShortSessionException(s_length, k)\n",
      "\u001B[0;31mTooShortSessionException\u001B[0m: Given session length 2 is shorter than the top n recommendations 5.\nIt is not possible to make a valid evaluation."
     ]
    }
   ],
   "source": [
    "scores = score_model(test_sessions, trained_model, k=5, skip_short_sessions=False)"
   ]
  },
  {
   "cell_type": "code",
   "execution_count": 22,
   "metadata": {
    "pycharm": {
     "name": "#%%\n"
    }
   },
   "outputs": [],
   "source": [
    "scores = score_model(test_sessions, trained_model, k=5, skip_short_sessions=True)"
   ]
  },
  {
   "cell_type": "code",
   "execution_count": 23,
   "metadata": {
    "pycharm": {
     "name": "#%%\n"
    }
   },
   "outputs": [
    {
     "name": "stdout",
     "output_type": "stream",
     "text": [
      "{'MRR': 0.0294, 'Precision': 0.0142, 'Recall': 0.0142}\n"
     ]
    }
   ],
   "source": [
    "print(scores)"
   ]
  },
  {
   "cell_type": "code",
   "execution_count": 24,
   "metadata": {
    "pycharm": {
     "name": "#%%\n"
    }
   },
   "outputs": [],
   "source": [
    "scores = score_model(test_sessions, trained_model, k=10, skip_short_sessions=True)"
   ]
  },
  {
   "cell_type": "code",
   "execution_count": 25,
   "outputs": [
    {
     "name": "stdout",
     "output_type": "stream",
     "text": [
      "{'MRR': 0.013986904761904761, 'Precision': 0.0040999999999999995, 'Recall': 0.0040999999999999995}\n"
     ]
    }
   ],
   "source": [
    "print(scores)"
   ],
   "metadata": {
    "collapsed": false,
    "pycharm": {
     "name": "#%%\n"
    }
   }
  },
  {
   "cell_type": "code",
   "execution_count": null,
   "outputs": [],
   "source": [],
   "metadata": {
    "collapsed": false,
    "pycharm": {
     "name": "#%%\n"
    }
   }
  }
 ],
 "metadata": {
  "kernelspec": {
   "display_name": "Python 3 (ipykernel)",
   "language": "python",
   "name": "python3"
  },
  "language_info": {
   "codemirror_mode": {
    "name": "ipython",
    "version": 3
   },
   "file_extension": ".py",
   "mimetype": "text/x-python",
   "name": "python",
   "nbconvert_exporter": "python",
   "pygments_lexer": "ipython3",
   "version": "3.9.7"
  }
 },
 "nbformat": 4,
 "nbformat_minor": 1
}