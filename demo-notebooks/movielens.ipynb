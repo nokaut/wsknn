{
 "cells": [
  {
   "cell_type": "markdown",
   "source": [
    "# Recommendations for MovieLens dataset\n",
    "\n",
    "This tutorial shows how to train WSKNN model on MovieLens dataset. We are going to load data from a flat file, and then transform it to k-NN mappings of session-items and item-sessions.\n",
    "\n",
    "*MovieLens dataset*\n",
    "\n",
    "```\n",
    "F. Maxwell Harper and Joseph A. Konstan. 2015. The MovieLens Datasets:\n",
    "History and Context. ACM Transactions on Interactive Intelligent\n",
    "Systems (TiiS) 5, 4, Article 19 (December 2015), 19 pages.\n",
    "DOI=http://dx.doi.org/10.1145/2827872\n",
    "```\n",
    "\n",
    "*Data schema*\n",
    "\n",
    "```\n",
    "u.data     -- The full u data set, 100000 ratings by 943 users on 1682 items.\n",
    "              Each user has rated at least 20 movies.  Users and items are\n",
    "              numbered consecutively from 1.  The data is randomly\n",
    "              ordered. This is a tab separated list of \n",
    "\t         user id | item id | rating | timestamp. \n",
    "              The time stamps are unix seconds since 1/1/1970 UTC\n",
    "```"
   ],
   "metadata": {
    "collapsed": false
   }
  },
  {
   "cell_type": "code",
   "execution_count": 5,
   "metadata": {
    "collapsed": true,
    "pycharm": {
     "name": "#%%\n"
    },
    "ExecuteTime": {
     "end_time": "2023-08-21T07:34:37.211322339Z",
     "start_time": "2023-08-21T07:34:37.200284932Z"
    }
   },
   "outputs": [],
   "source": [
    "import numpy as np\n",
    "from wsknn import fit\n",
    "from wsknn.preprocessing.parse_static import parse_flat_file"
   ]
  },
  {
   "cell_type": "code",
   "execution_count": 2,
   "outputs": [],
   "source": [
    "fpath = 'demo-data/movielens/ml-100k/u.data'\n",
    "ds = parse_flat_file(fpath, sep='\\t', session_index=0, product_index=1, action_index=2, time_index=3, time_to_numeric=True)"
   ],
   "metadata": {
    "collapsed": false,
    "ExecuteTime": {
     "end_time": "2023-08-21T07:24:18.864635904Z",
     "start_time": "2023-08-21T07:24:17.768563777Z"
    }
   }
  },
  {
   "cell_type": "code",
   "execution_count": 3,
   "outputs": [
    {
     "data": {
      "text/plain": "(<wsknn.preprocessing.structure.item.Items at 0x7f9fe586b5e0>,\n <wsknn.preprocessing.structure.session.Sessions at 0x7f9fe586b400>)"
     },
     "execution_count": 3,
     "metadata": {},
     "output_type": "execute_result"
    }
   ],
   "source": [
    "ds"
   ],
   "metadata": {
    "collapsed": false,
    "ExecuteTime": {
     "end_time": "2023-08-21T07:24:20.483839098Z",
     "start_time": "2023-08-21T07:24:20.471600896Z"
    }
   }
  },
  {
   "cell_type": "code",
   "execution_count": 4,
   "outputs": [],
   "source": [
    "model = fit(sessions=ds[1],\n",
    "            items=ds[0],\n",
    "            number_of_recommendations=5,\n",
    "            number_of_neighbors=10,\n",
    "            sampling_strategy='recent',\n",
    "            sample_size=50,\n",
    "            weighting_func='log',\n",
    "            ranking_strategy='log',\n",
    "            return_events_from_session=False,\n",
    "            recommend_any=False)"
   ],
   "metadata": {
    "collapsed": false,
    "ExecuteTime": {
     "end_time": "2023-08-21T07:24:23.976705022Z",
     "start_time": "2023-08-21T07:24:23.965665741Z"
    }
   }
  },
  {
   "cell_type": "code",
   "execution_count": 6,
   "outputs": [],
   "source": [
    "def get_sample_sessions(set_of_sessions, n_sessions=100):\n",
    "    sessions_keys = list(set_of_sessions.keys())\n",
    "    key_sample = np.random.choice(sessions_keys, n_sessions)\n",
    "    sampled = [set_of_sessions[dk] for dk in key_sample]\n",
    "    return sampled"
   ],
   "metadata": {
    "collapsed": false,
    "ExecuteTime": {
     "end_time": "2023-08-21T07:35:19.290644882Z",
     "start_time": "2023-08-21T07:35:19.267718602Z"
    }
   }
  },
  {
   "cell_type": "code",
   "execution_count": 14,
   "outputs": [],
   "source": [
    "def get_movie_name(movie_id: str):\n",
    "    with open('demo-data/movielens/ml-100k/u.item', 'r', encoding = \"ISO-8859-1\") as fin:\n",
    "        for line in fin:\n",
    "            splitted = line.split('|')\n",
    "            if movie_id == splitted[0]:\n",
    "                return splitted[1]"
   ],
   "metadata": {
    "collapsed": false,
    "ExecuteTime": {
     "end_time": "2023-08-21T07:53:59.226221888Z",
     "start_time": "2023-08-21T07:53:59.112259617Z"
    }
   }
  },
  {
   "cell_type": "code",
   "execution_count": 9,
   "outputs": [],
   "source": [
    "test_sessions = get_sample_sessions(set_of_sessions=ds[1].session_items_actions_map, n_sessions=5)"
   ],
   "metadata": {
    "collapsed": false,
    "ExecuteTime": {
     "end_time": "2023-08-21T07:37:27.298591728Z",
     "start_time": "2023-08-21T07:37:27.235171545Z"
    }
   }
  },
  {
   "cell_type": "code",
   "execution_count": 15,
   "outputs": [
    {
     "name": "stdout",
     "output_type": "stream",
     "text": [
      "User watched\n",
      "['Casablanca (1942)', 'Madness of King George, The (1994)', 'Graduate, The (1967)', 'Great Race, The (1965)', 'Nightmare Before Christmas, The (1993)', 'Brazil (1985)', \"Singin' in the Rain (1952)\", 'Babe (1995)', 'Toy Story (1995)', 'Sense and Sensibility (1995)', 'Return of Martin Guerre, The (Retour de Martin Guerre, Le) (1982)', 'Sex, Lies, and Videotape (1989)', 'Cool Hand Luke (1967)', 'Shawshank Redemption, The (1994)', 'Farewell My Concubine (1993)', 'Courage Under Fire (1996)', 'Braveheart (1995)', 'Princess Bride, The (1987)', 'Field of Dreams (1989)', 'Like Water For Chocolate (Como agua para chocolate) (1992)', 'African Queen, The (1951)', 'Apt Pupil (1998)', 'Leaving Las Vegas (1995)', 'Hudsucker Proxy, The (1994)', 'Glory (1989)', 'Pulp Fiction (1994)', 'Titanic (1997)', 'Return of the Jedi (1983)', 'Sting, The (1973)', 'Terminator 2: Judgment Day (1991)', 'Heidi Fleiss: Hollywood Madam (1995) ', 'Back to the Future (1985)', 'Amadeus (1984)', 'Jaws (1975)', 'Groundhog Day (1993)', 'Good Will Hunting (1997)', 'Smoke (1995)', 'Benny & Joon (1993)', 'Silence of the Lambs, The (1991)', \"Schindler's List (1993)\", 'Boot, Das (1981)', 'Postino, Il (1994)', 'Dr. Strangelove or: How I Learned to Stop Worrying and Love the Bomb (1963)', 'Thin Man, The (1934)', 'City of Lost Children, The (1995)', 'Gattaca (1997)', 'This Is Spinal Tap (1984)', \"Carlito's Way (1993)\", 'Swingers (1996)', 'Evita (1996)', 'Gone with the Wind (1939)', 'Shine (1996)', 'Rock, The (1996)', 'Chasing Amy (1997)', 'L.A. Confidential (1997)', 'Rear Window (1954)', 'Annie Hall (1977)', 'Wizard of Oz, The (1939)', 'Amistad (1997)', 'Full Monty, The (1997)', 'Blues Brothers, The (1980)', 'Mary Poppins (1964)', 'Manon of the Spring (Manon des sources) (1986)', 'Crumb (1994)', 'Godfather, The (1972)', 'Cinema Paradiso (1988)', 'Stand by Me (1986)', 'Fargo (1996)', 'Fifth Element, The (1997)', 'Walkabout (1971)', 'Hoop Dreams (1994)', 'E.T. the Extra-Terrestrial (1982)', 'Jean de Florette (1986)', 'Piano, The (1993)', 'Forrest Gump (1994)', 'Get Shorty (1995)', 'Seven Years in Tibet (1997)', 'Wild Bunch, The (1969)', 'Kundun (1997)', 'People vs. Larry Flynt, The (1996)', 'Liar Liar (1997)', 'Star Wars (1977)', '12 Angry Men (1957)', 'Empire Strikes Back, The (1980)', 'Chasing Amy (1997)', 'Michael Collins (1996)', 'Trainspotting (1996)', 'Bob Roberts (1992)', 'Dead Poets Society (1989)', 'Dolores Claiborne (1994)', 'English Patient, The (1996)', 'Butch Cassidy and the Sundance Kid (1969)', \"One Flew Over the Cuckoo's Nest (1975)\"]\n",
      "Recommendations\n",
      "Item: Raiders of the Lost Ark (1981) | weight: 1.6359402260380702\n",
      "Item: Apollo 13 (1995) | weight: 1.6359402260380702\n",
      "Item: Terminator, The (1984) | weight: 1.5506912339661973\n",
      "Item: M*A*S*H (1970) | weight: 1.5506912339661973\n",
      "Item: Raising Arizona (1987) | weight: 1.5134354644154988\n",
      "---\n",
      "\n",
      "User watched\n",
      "['Fantasia (1940)', 'Up Close and Personal (1996)', 'Ransom (1996)', 'Wrong Trousers, The (1993)', 'Four Rooms (1995)', 'Great White Hype, The (1996)', 'First Wives Club, The (1996)', 'Nutty Professor, The (1996)', 'Courage Under Fire (1996)', 'Heat (1995)', 'Twister (1996)', 'Welcome to the Dollhouse (1995)', 'Down Periscope (1996)', 'Twelve Monkeys (1995)', 'Kingpin (1996)', 'Sabrina (1995)', 'Very Brady Sequel, A (1996)', 'Grumpier Old Men (1995)', 'Lone Star (1996)', 'Time to Kill, A (1996)', 'Fan, The (1996)', 'Willy Wonka and the Chocolate Factory (1971)', \"Schindler's List (1993)\", \"Things to Do in Denver when You're Dead (1995)\", 'Silence of the Lambs, The (1991)', 'Father of the Bride Part II (1995)', 'Star Trek: First Contact (1996)', 'Long Kiss Goodnight, The (1996)', 'Toy Story (1995)', 'Fargo (1996)', 'Fluke (1995)', 'Sense and Sensibility (1995)', 'Multiplicity (1996)', 'Swingers (1996)', 'Independence Day (ID4) (1996)', 'Emma (1996)', 'Clerks (1994)', 'Mission: Impossible (1996)', 'Truth About Cats & Dogs, The (1996)', 'Primal Fear (1996)', 'Jerry Maguire (1996)', 'Extreme Measures (1996)', 'Evita (1996)', 'Birdcage, The (1996)', 'Hunchback of Notre Dame, The (1996)', 'Blues Brothers, The (1980)', 'Full Monty, The (1997)', 'Tin Cup (1996)', 'Scream (1996)', 'Leaving Las Vegas (1995)', \"Don't Be a Menace to South Central While Drinking Your Juice in the Hood (1996)\", 'Beverly Hills Ninja (1997)', 'Trainspotting (1996)', 'Craft, The (1996)', 'Cold Comfort Farm (1995)', 'Juror, The (1996)', 'Fugitive, The (1993)', 'Indiana Jones and the Last Crusade (1989)']\n",
      "Recommendations\n",
      "Item: Raiders of the Lost Ark (1981) | weight: 1.947929253248089\n",
      "Item: Aliens (1986) | weight: 1.947929253248089\n",
      "Item: Star Wars (1977) | weight: 1.947929253248089\n",
      "Item: Terminator, The (1984) | weight: 1.947929253248089\n",
      "Item: Forrest Gump (1994) | weight: 1.8194230875474329\n",
      "---\n",
      "\n",
      "User watched\n",
      "['E.T. the Extra-Terrestrial (1982)', 'Batman (1989)', 'Terminator 2: Judgment Day (1991)', 'It Could Happen to You (1994)', 'Broken Arrow (1996)', 'Sabrina (1995)', 'Beauty and the Beast (1991)', 'Dolores Claiborne (1994)', 'Grumpier Old Men (1995)', 'Sword in the Stone, The (1963)', 'Silence of the Lambs, The (1991)', 'Unstrung Heroes (1995)', 'Executive Decision (1996)', 'Aliens (1986)', 'Terminator, The (1984)', 'Psycho (1960)', 'Forrest Gump (1994)', 'In the Line of Fire (1993)', 'Rear Window (1954)', 'Forget Paris (1995)', 'Independence Day (ID4) (1996)', 'All About Eve (1950)', 'Beverly Hills Ninja (1997)', 'Rebel Without a Cause (1955)', 'Sound of Music, The (1965)', 'Real Genius (1985)', 'Hoop Dreams (1994)', 'Clean Slate (1994)', 'Aristocats, The (1970)', 'Indiana Jones and the Last Crusade (1989)', 'Only You (1994)', 'Mission: Impossible (1996)', 'That Thing You Do! (1996)', 'French Kiss (1995)', 'Star Trek: Generations (1994)', 'Four Weddings and a Funeral (1994)', \"One Flew Over the Cuckoo's Nest (1975)\", 'Rent-a-Kid (1995)', 'Back to the Future (1985)', 'Pinocchio (1940)', 'Deer Hunter, The (1978)', \"Breakfast at Tiffany's (1961)\", 'Bedknobs and Broomsticks (1971)', 'River Wild, The (1994)', 'Grease (1978)', 'Birdcage, The (1996)', 'American President, The (1995)', 'Snow White and the Seven Dwarfs (1937)', 'Associate, The (1996)', 'Star Trek: First Contact (1996)', 'Unforgettable (1996)', 'Speed (1994)', 'M*A*S*H (1970)', 'Usual Suspects, The (1995)', 'Jurassic Park (1993)', 'Sleepless in Seattle (1993)', 'Apollo 13 (1995)', 'Hunt for Red October, The (1990)', 'Murder in the First (1995)', 'Cinderella (1950)', 'Clueless (1995)', 'Paper, The (1994)', 'Two if by Sea (1996)', 'Shadowlands (1993)', 'Alien (1979)', 'Jack (1996)', 'Fugitive, The (1993)', 'Harold and Maude (1971)', 'Jaws (1975)', 'Up Close and Personal (1996)', 'Fearless (1993)', 'Halloween: The Curse of Michael Myers (1995)', 'Fantasia (1940)', 'Dave (1993)', 'Dead Poets Society (1989)', 'Empire Strikes Back, The (1980)', 'Sting, The (1973)', \"It's a Wonderful Life (1946)\", 'Field of Dreams (1989)', 'Ransom (1996)', 'Substitute, The (1996)', 'Clear and Present Danger (1994)', 'Santa Clause, The (1994)', 'Twister (1996)', 'Mask, The (1994)', 'Vertigo (1958)', 'When Harry Met Sally... (1989)', 'House Arrest (1996)', 'Aladdin (1992)', 'Star Trek IV: The Voyage Home (1986)', 'Kingpin (1996)', 'Tales from the Crypt Presents: Bordello of Blood (1996)', 'Firm, The (1993)', 'Michael (1996)', 'Leaving Las Vegas (1995)', 'Toy Story (1995)', 'Age of Innocence, The (1993)', 'Bridges of Madison County, The (1995)', 'Multiplicity (1996)', 'To Kill a Mockingbird (1962)', 'Fierce Creatures (1997)', \"Mr. Holland's Opus (1995)\", 'Short Cuts (1993)', 'Conan the Barbarian (1981)', 'Nell (1994)', 'Just Cause (1995)', 'Birds, The (1963)', 'Star Trek III: The Search for Spock (1984)', 'Princess Bride, The (1987)', 'Much Ado About Nothing (1993)', 'True Lies (1994)', 'Star Trek: The Wrath of Khan (1982)', 'Piano, The (1993)', 'Outbreak (1995)', 'Father of the Bride Part II (1995)', 'Disclosure (1994)', 'First Knight (1995)', \"Preacher's Wife, The (1996)\", 'Quiz Show (1994)', 'Phenomenon (1996)', 'Brazil (1985)', 'Top Gun (1986)', 'Nightmare on Elm Street, A (1984)', 'Groundhog Day (1993)', 'Courage Under Fire (1996)', 'White Squall (1996)', 'Jerry Maguire (1996)', 'Robin Hood: Prince of Thieves (1991)', 'Dumbo (1941)', 'Ghost (1990)', 'Mary Poppins (1964)', 'Emma (1996)', 'While You Were Sleeping (1995)', 'Unforgiven (1992)', '2001: A Space Odyssey (1968)', 'Like Water For Chocolate (Como agua para chocolate) (1992)', 'Shawshank Redemption, The (1994)', 'Net, The (1995)', 'Rudy (1993)', 'Down Periscope (1996)', 'Sneakers (1992)', 'Cool Hand Luke (1967)', 'Star Trek VI: The Undiscovered Country (1991)', 'Bronx Tale, A (1993)', 'Liar Liar (1997)', 'Tin Cup (1996)', 'Black Sheep (1996)', 'Willy Wonka and the Chocolate Factory (1971)', \"Schindler's List (1993)\", 'Star Wars (1977)', 'Heat (1995)', 'Adventures of Robin Hood, The (1938)', 'Fried Green Tomatoes (1991)', 'Malice (1993)', 'Dances with Wolves (1990)', 'Interview with the Vampire (1994)', 'Remains of the Day, The (1993)', 'Lion King, The (1994)', 'With Honors (1994)', 'Stand by Me (1986)', 'Winnie the Pooh and the Blustery Day (1968)', 'Wizard of Oz, The (1939)', 'Fan, The (1996)', \"She's the One (1996)\", 'Phantom, The (1996)', 'Truth About Cats & Dogs, The (1996)', 'Ghost and Mrs. Muir, The (1947)', '20,000 Leagues Under the Sea (1954)', 'Return of the Jedi (1983)', 'Raiders of the Lost Ark (1981)', 'Maverick (1994)', 'Monty Python and the Holy Grail (1974)', 'GoldenEye (1995)', 'Pump Up the Volume (1990)', 'Jumanji (1995)', 'Time to Kill, A (1996)', 'Mr. Smith Goes to Washington (1939)', 'Philadelphia (1993)', 'Nutty Professor, The (1996)', 'Heathers (1989)', 'Searching for Bobby Fischer (1993)', 'Primal Fear (1996)', 'All Dogs Go to Heaven 2 (1996)']\n",
      "Recommendations\n",
      "Item: Braveheart (1995) | weight: 1.0167179023094874\n",
      "Item: Die Hard (1988) | weight: 1.0167179023094874\n",
      "Item: Mrs. Doubtfire (1993) | weight: 0.983454817894502\n",
      "Item: Pulp Fiction (1994) | weight: 0.9727686535687964\n",
      "Item: Fish Called Wanda, A (1988) | weight: 0.9727686535687964\n",
      "---\n",
      "\n",
      "User watched\n",
      "['Welcome To Sarajevo (1997)', 'Cool Hand Luke (1967)', 'Jackal, The (1997)', 'Midnight in the Garden of Good and Evil (1997)', 'Telling Lies in America (1997)', 'Ice Storm, The (1997)', 'Apostle, The (1997)', 'Apt Pupil (1998)', 'Jaws (1975)', 'Rainmaker, The (1997)', 'Titanic (1997)', \"Devil's Advocate, The (1997)\", 'Four Days in September (1997)', \"Devil's Own, The (1997)\", 'Oscar & Lucinda (1997)', 'Wag the Dog (1997)', 'To Kill a Mockingbird (1962)', 'Saint, The (1997)', 'L.A. Confidential (1997)', 'Old Man and the Sea, The (1958)', 'Wings of the Dove, The (1997)', 'Dead Man Walking (1995)', 'Great Escape, The (1963)', 'Lone Star (1996)', 'English Patient, The (1996)', 'Cop Land (1997)', '12 Angry Men (1957)', 'Secrets & Lies (1996)', 'Winter Guest, The (1997)']\n",
      "Recommendations\n",
      "Item: As Good As It Gets (1997) | weight: 1.1036925416860819\n",
      "Item: Air Force One (1997) | weight: 1.0214334572844739\n",
      "Item: Murder at 1600 (1997) | weight: 0.9578915374594881\n",
      "Item: Contact (1997) | weight: 0.9538030913500994\n",
      "Item: Conspiracy Theory (1997) | weight: 0.9538030913500994\n",
      "---\n",
      "\n",
      "User watched\n",
      "['Titanic (1997)', 'Pulp Fiction (1994)', 'Candyman: Farewell to the Flesh (1995)', 'Copycat (1995)', 'Long Kiss Goodnight, The (1996)', 'Army of Darkness (1993)', 'Rock, The (1996)', 'Rainmaker, The (1997)', 'G.I. Jane (1997)', 'Seven Years in Tibet (1997)', 'Volcano (1997)', 'That Thing You Do! (1996)', 'Truth About Cats & Dogs, The (1996)', 'Congo (1995)', 'In & Out (1997)', 'I Know What You Did Last Summer (1997)', 'Ransom (1996)', 'Face/Off (1997)', 'Scream 2 (1997)', 'Wolf (1994)', 'Kull the Conqueror (1997)', 'Game, The (1997)', 'George of the Jungle (1997)', 'Sleepers (1996)', 'People vs. Larry Flynt, The (1996)', 'Mute Witness (1994)', 'Scream (1996)', 'Dead Man Walking (1995)', \"Devil's Advocate, The (1997)\", 'Interview with the Vampire (1994)', 'Hunchback of Notre Dame, The (1996)', 'Air Force One (1997)', 'Contact (1997)', 'Jerry Maguire (1996)', 'Fargo (1996)', \"Dante's Peak (1997)\", 'Apt Pupil (1998)', 'Primal Fear (1996)', 'Kull the Conqueror (1997)', 'L.A. Confidential (1997)', 'Vegas Vacation (1997)', 'Toy Story (1995)', 'Silence of the Lambs, The (1991)', 'Candyman (1992)', 'Cape Fear (1991)', 'Conspiracy Theory (1997)', 'Leaving Las Vegas (1995)', 'Liar Liar (1997)', 'Nightmare on Elm Street, A (1984)', 'Shining, The (1980)', 'Independence Day (ID4) (1996)', 'Natural Born Killers (1994)']\n",
      "Recommendations\n",
      "Item: Broken Arrow (1996) | weight: 1.901448036791814\n",
      "Item: True Lies (1994) | weight: 1.785613984549741\n",
      "Item: Mission: Impossible (1996) | weight: 1.779974456771425\n",
      "Item: Twister (1996) | weight: 1.779974456771425\n",
      "Item: Star Wars (1977) | weight: 1.7446812919803774\n",
      "---\n"
     ]
    }
   ],
   "source": [
    "for ts in test_sessions:\n",
    "    print('User watched')\n",
    "    print(str([get_movie_name(x) for x in ts[0]]))\n",
    "    print('Recommendations')\n",
    "    recs = model.recommend(ts)\n",
    "    for rec in recs:\n",
    "        print('Item:', get_movie_name(rec[0]), '| weight:', rec[1])\n",
    "    print('---')\n",
    "    print('')\n",
    "    "
   ],
   "metadata": {
    "collapsed": false,
    "ExecuteTime": {
     "end_time": "2023-08-21T07:54:02.015706447Z",
     "start_time": "2023-08-21T07:54:01.850637123Z"
    }
   }
  },
  {
   "cell_type": "code",
   "execution_count": null,
   "outputs": [],
   "source": [],
   "metadata": {
    "collapsed": false
   }
  }
 ],
 "metadata": {
  "kernelspec": {
   "display_name": "Python 3",
   "language": "python",
   "name": "python3"
  },
  "language_info": {
   "codemirror_mode": {
    "name": "ipython",
    "version": 2
   },
   "file_extension": ".py",
   "mimetype": "text/x-python",
   "name": "python",
   "nbconvert_exporter": "python",
   "pygments_lexer": "ipython2",
   "version": "2.7.6"
  }
 },
 "nbformat": 4,
 "nbformat_minor": 0
}
