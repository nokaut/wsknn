{
 "cells": [
  {
   "cell_type": "markdown",
   "source": [
    "# Recommendations for MovieLens dataset\n",
    "\n",
    "This tutorial shows how to train WSKNN model on MovieLens dataset. We are going to load data from a flat file, and then transform it to k-NN mappings of session-items and item-sessions.\n",
    "\n",
    "*MovieLens dataset*\n",
    "\n",
    "```\n",
    "F. Maxwell Harper and Joseph A. Konstan. 2015. The MovieLens Datasets:\n",
    "History and Context. ACM Transactions on Interactive Intelligent\n",
    "Systems (TiiS) 5, 4, Article 19 (December 2015), 19 pages.\n",
    "DOI=http://dx.doi.org/10.1145/2827872\n",
    "```\n",
    "\n",
    "*Data schema*\n",
    "\n",
    "```\n",
    "u.data     -- The full u data set, 100000 ratings by 943 users on 1682 items.\n",
    "              Each user has rated at least 20 movies.  Users and items are\n",
    "              numbered consecutively from 1.  The data is randomly\n",
    "              ordered. This is a tab separated list of \n",
    "\t         user id | item id | rating | timestamp. \n",
    "              The time stamps are unix seconds since 1/1/1970 UTC\n",
    "```"
   ],
   "metadata": {
    "collapsed": false
   }
  },
  {
   "cell_type": "code",
   "execution_count": 1,
   "metadata": {
    "collapsed": true,
    "pycharm": {
     "name": "#%%\n"
    },
    "ExecuteTime": {
     "end_time": "2023-08-22T09:29:17.374440646Z",
     "start_time": "2023-08-22T09:29:17.244101615Z"
    }
   },
   "outputs": [],
   "source": [
    "import numpy as np\n",
    "from wsknn import fit\n",
    "from wsknn.preprocessing.parse_static import parse_flat_file"
   ]
  },
  {
   "cell_type": "code",
   "execution_count": 2,
   "outputs": [],
   "source": [
    "fpath = 'demo-data/movielens/ml-100k/u.data'\n",
    "ds = parse_flat_file(fpath, sep='\\t', session_index=0, product_index=1, time_index=3, time_to_numeric=True)"
   ],
   "metadata": {
    "collapsed": false,
    "ExecuteTime": {
     "end_time": "2023-08-22T09:29:19.235530580Z",
     "start_time": "2023-08-22T09:29:18.079106041Z"
    }
   }
  },
  {
   "cell_type": "code",
   "execution_count": 4,
   "outputs": [],
   "source": [
    "model = fit(sessions=ds[1],\n",
    "            items=ds[0],\n",
    "            number_of_recommendations=5,\n",
    "            number_of_neighbors=10,\n",
    "            sampling_strategy='recent',\n",
    "            sample_size=50,\n",
    "            weighting_func='log',\n",
    "            ranking_strategy='log',\n",
    "            return_events_from_session=False,\n",
    "            recommend_any=False)"
   ],
   "metadata": {
    "collapsed": false,
    "ExecuteTime": {
     "end_time": "2023-08-22T09:29:28.727582036Z",
     "start_time": "2023-08-22T09:29:28.719194560Z"
    }
   }
  },
  {
   "cell_type": "code",
   "execution_count": 5,
   "outputs": [],
   "source": [
    "def get_sample_sessions(set_of_sessions, n_sessions=100):\n",
    "    sessions_keys = list(set_of_sessions.keys())\n",
    "    key_sample = np.random.choice(sessions_keys, n_sessions)\n",
    "    sampled = [set_of_sessions[dk] for dk in key_sample]\n",
    "    return sampled"
   ],
   "metadata": {
    "collapsed": false,
    "ExecuteTime": {
     "end_time": "2023-08-22T09:29:30.775572019Z",
     "start_time": "2023-08-22T09:29:30.769572745Z"
    }
   }
  },
  {
   "cell_type": "code",
   "execution_count": 6,
   "outputs": [],
   "source": [
    "def get_movie_name(movie_id: str):\n",
    "    with open('demo-data/movielens/ml-100k/u.item', 'r', encoding = \"ISO-8859-1\") as fin:\n",
    "        for line in fin:\n",
    "            splitted = line.split('|')\n",
    "            if movie_id == splitted[0]:\n",
    "                return splitted[1]"
   ],
   "metadata": {
    "collapsed": false,
    "ExecuteTime": {
     "end_time": "2023-08-22T09:29:32.250683609Z",
     "start_time": "2023-08-22T09:29:32.246616244Z"
    }
   }
  },
  {
   "cell_type": "code",
   "execution_count": 7,
   "outputs": [],
   "source": [
    "test_sessions = get_sample_sessions(set_of_sessions=ds[1].session_items_actions_map, n_sessions=5)"
   ],
   "metadata": {
    "collapsed": false,
    "ExecuteTime": {
     "end_time": "2023-08-22T09:29:35.042798203Z",
     "start_time": "2023-08-22T09:29:35.041062356Z"
    }
   }
  },
  {
   "cell_type": "code",
   "execution_count": 8,
   "outputs": [
    {
     "name": "stdout",
     "output_type": "stream",
     "text": [
      "User watched\n",
      "['Down Periscope (1996)', 'Smoke (1995)', 'Grifters, The (1990)', 'Strange Days (1995)', 'I Shot Andy Warhol (1996)', 'This Is Spinal Tap (1984)', 'Forrest Gump (1994)', \"Things to Do in Denver when You're Dead (1995)\", 'Mission: Impossible (1996)', 'Ransom (1996)', 'Streetcar Named Desire, A (1951)', 'Liar Liar (1997)', 'Crimson Tide (1995)', 'Legends of the Fall (1994)', 'Lion King, The (1994)', 'Emma (1996)', 'African Queen, The (1951)', 'Get Shorty (1995)', 'Cold Comfort Farm (1995)', 'Short Cuts (1993)', 'Nutty Professor, The (1996)', 'Taxi Driver (1976)', 'Austin Powers: International Man of Mystery (1997)', 'Mighty Aphrodite (1995)', 'Contact (1997)', 'Secrets & Lies (1996)', 'Shall We Dance? (1996)', 'Mother (1996)', 'Big Night (1996)', 'Little Buddha (1993)', 'Wizard of Oz, The (1939)', 'GoodFellas (1990)', 'Silence of the Lambs, The (1991)', 'Butch Cassidy and the Sundance Kid (1969)', 'Babe (1995)', 'Piano, The (1993)', 'Trainspotting (1996)', 'Lost Horizon (1937)', 'Donnie Brasco (1997)', 'Return of the Jedi (1983)', 'Rear Window (1954)', \"Antonia's Line (1995)\", 'American President, The (1995)', \"One Flew Over the Cuckoo's Nest (1975)\", 'Harold and Maude (1971)', 'Men in Black (1997)', 'Phantom, The (1996)', 'Somewhere in Time (1980)', 'Heat (1995)', 'Sense and Sensibility (1995)', 'Basic Instinct (1992)', \"Mr. Holland's Opus (1995)\", 'E.T. the Extra-Terrestrial (1982)', 'Pink Floyd - The Wall (1982)', 'Night on Earth (1991)', 'Glengarry Glen Ross (1992)', 'Star Trek: First Contact (1996)', \"Romy and Michele's High School Reunion (1997)\", 'Princess Bride, The (1987)', 'Pulp Fiction (1994)', 'Shining, The (1980)', 'Associate, The (1996)', 'Die Hard (1988)', 'Private Parts (1997)', '12 Angry Men (1957)', 'Platoon (1986)', 'Truth About Cats & Dogs, The (1996)', 'Stand by Me (1986)', 'Four Weddings and a Funeral (1994)', 'Terminator, The (1984)', 'Braveheart (1995)', 'Birdcage, The (1996)', 'Swingers (1996)', 'Amadeus (1984)', 'Raising Arizona (1987)', 'Independence Day (ID4) (1996)', 'Jeffrey (1995)', 'Like Water For Chocolate (Como agua para chocolate) (1992)', 'Quiz Show (1994)', 'Heavyweights (1994)', 'Chasing Amy (1997)', 'Aladdin (1992)', 'Empire Strikes Back, The (1980)', 'Clerks (1994)', 'Fargo (1996)', 'Circle of Friends (1995)', 'Spitfire Grill, The (1996)', 'Terminator 2: Judgment Day (1991)', 'Twelve Monkeys (1995)', 'Raging Bull (1980)', 'Con Air (1997)', 'Clueless (1995)', 'Cinema Paradiso (1988)', 'Dances with Wolves (1990)', 'Apocalypse Now (1979)', 'Toy Story (1995)', 'Little Women (1994)', 'Ed Wood (1994)', 'When Harry Met Sally... (1989)', 'Usual Suspects, The (1995)', 'Twister (1996)', 'Courage Under Fire (1996)', \"Ulee's Gold (1997)\", 'Fish Called Wanda, A (1988)', \"Schindler's List (1993)\", 'To Kill a Mockingbird (1962)', 'My Life as a Dog (Mitt liv som hund) (1985)', 'Blue in the Face (1995)', 'Star Wars (1977)', 'Raiders of the Lost Ark (1981)', 'Jurassic Park (1993)', 'Some Folks Call It a Sling Blade (1993)', '2001: A Space Odyssey (1968)', 'Secret Garden, The (1993)', 'Living in Oblivion (1995)', 'Blade Runner (1982)', 'People vs. Larry Flynt, The (1996)', 'Rock, The (1996)', 'Shine (1996)', \"What's Eating Gilbert Grape (1993)\", 'Ran (1985)', 'Grosse Pointe Blank (1997)', 'English Patient, The (1996)', 'Before Sunrise (1995)', 'Fantasia (1940)', 'Cape Fear (1991)', 'Back to the Future (1985)', 'Rumble in the Bronx (1995)', 'Nightmare Before Christmas, The (1993)', 'Copycat (1995)', 'Lone Star (1996)', 'Sound of Music, The (1965)', 'Professional, The (1994)', 'Top Gun (1986)', 'Get on the Bus (1996)', 'Kids (1995)', 'Godfather, The (1972)', 'Die Hard 2 (1990)', 'Dolores Claiborne (1994)', 'Killing Zoe (1994)', 'Jerry Maguire (1996)', 'Shawshank Redemption, The (1994)', 'Dead Man Walking (1995)']\n",
      "Recommendations\n",
      "Item: Aliens (1986) | weight: 1.489341470262457\n",
      "Item: Fugitive, The (1993) | weight: 1.489341470262457\n",
      "Item: Jaws (1975) | weight: 1.3939711847266973\n",
      "Item: Sleepless in Seattle (1993) | weight: 1.3742570481285101\n",
      "Item: Apollo 13 (1995) | weight: 1.3590141950597054\n",
      "---\n",
      "\n",
      "User watched\n",
      "['Dial M for Murder (1954)', 'Lawrence of Arabia (1962)', 'GoodFellas (1990)', 'Cool Hand Luke (1967)', 'Braveheart (1995)', 'Foreign Correspondent (1940)', 'Forbidden Planet (1956)', 'Philadelphia Story, The (1940)', 'Some Like It Hot (1959)', 'To Kill a Mockingbird (1962)', \"Breakfast at Tiffany's (1961)\", 'It Happened One Night (1934)', 'Once Upon a Time in the West (1969)', 'Silence of the Lambs, The (1991)', \"Devil's Advocate, The (1997)\", \"It's a Wonderful Life (1946)\", 'Bridge on the River Kwai, The (1957)', 'Hunt for Red October, The (1990)', 'Blade Runner (1982)', 'My Fair Lady (1964)', 'Willy Wonka and the Chocolate Factory (1971)', 'East of Eden (1955)', 'Dr. Strangelove or: How I Learned to Stop Worrying and Love the Bomb (1963)', 'Good, The Bad and The Ugly, The (1966)', 'Apartment, The (1960)', '8 1/2 (1963)', 'Quiet Man, The (1952)', 'To Catch a Thief (1955)', 'Snow White and the Seven Dwarfs (1937)', 'Patton (1970)', 'Remains of the Day, The (1993)', 'Vertigo (1958)', 'Paths of Glory (1957)', 'Rear Window (1954)', 'Truth About Cats & Dogs, The (1996)', 'Raiders of the Lost Ark (1981)', 'Cape Fear (1991)', 'Kim (1950)', 'Maltese Falcon, The (1941)', 'Butch Cassidy and the Sundance Kid (1969)', 'E.T. the Extra-Terrestrial (1982)', 'Blue Angel, The (Blaue Engel, Der) (1930)', 'Boot, Das (1981)', '2001: A Space Odyssey (1968)', '39 Steps, The (1935)', 'Blues Brothers, The (1980)', 'Mr. Smith Goes to Washington (1939)', 'Amadeus (1984)', 'High Noon (1952)', 'Farewell to Arms, A (1932)', 'Babe (1995)', 'Raising Arizona (1987)', 'Third Man, The (1949)', 'Fargo (1996)', 'Great Escape, The (1963)', 'Return of Martin Guerre, The (Retour de Martin Guerre, Le) (1982)', 'Henry V (1989)', 'Miracle on 34th Street (1994)', 'Taxi Driver (1976)', 'Treasure of the Sierra Madre, The (1948)', 'Stealing Beauty (1996)', 'Pulp Fiction (1994)', 'Graduate, The (1967)', 'Fish Called Wanda, A (1988)', 'Clueless (1995)', 'Interview with the Vampire (1994)', 'Laura (1944)', 'Sense and Sensibility (1995)', 'North by Northwest (1959)', 'Old Man and the Sea, The (1958)', 'Wizard of Oz, The (1939)', 'Eat Drink Man Woman (1994)', 'Return of the Jedi (1983)', 'Bringing Up Baby (1938)', 'Rebel Without a Cause (1955)', 'Killing Fields, The (1984)', 'Hudsucker Proxy, The (1994)', 'African Queen, The (1951)', 'Annie Hall (1977)', 'Big Sleep, The (1946)', 'Toy Story (1995)', 'Father of the Bride (1950)', 'Crying Game, The (1992)', 'Once Were Warriors (1994)', 'Star Wars (1977)', 'Streetcar Named Desire, A (1951)', 'Roman Holiday (1953)', 'Room with a View, A (1986)', 'Godfather: Part II, The (1974)', 'Gandhi (1982)', 'Casablanca (1942)', 'Cinema Paradiso (1988)', 'Manchurian Candidate, The (1962)', 'Wild Bunch, The (1969)', 'Meet Me in St. Louis (1944)', 'Great Dictator, The (1940)', 'Rebecca (1940)', '12 Angry Men (1957)', 'Citizen Kane (1941)', 'Stand by Me (1986)']\n",
      "Recommendations\n",
      "Item: Sting, The (1973) | weight: 1.4359264550407258\n",
      "Item: Psycho (1960) | weight: 1.3587771152481662\n",
      "Item: This Is Spinal Tap (1984) | weight: 1.3583735479109227\n",
      "Item: Princess Bride, The (1987) | weight: 1.3583735479109227\n",
      "Item: Empire Strikes Back, The (1980) | weight: 1.3583735479109227\n",
      "---\n",
      "\n",
      "User watched\n",
      "['Postino, Il (1994)', 'Big Night (1996)', \"Dante's Peak (1997)\", 'One Fine Day (1996)', 'Striptease (1996)', 'Unforgiven (1992)', 'To Wong Foo, Thanks for Everything! Julie Newmar (1995)', 'Copycat (1995)', 'Back to the Future (1985)', 'Willy Wonka and the Chocolate Factory (1971)', 'Madness of King George, The (1994)', 'Shawshank Redemption, The (1994)', 'While You Were Sleeping (1995)', 'Pallbearer, The (1996)', 'Tin Cup (1996)', 'Crying Game, The (1992)', 'Brothers McMullen, The (1995)', 'Space Jam (1996)', 'Walk in the Clouds, A (1995)', 'Wallace & Gromit: The Best of Aardman Animation (1996)', 'Conspiracy Theory (1997)', 'English Patient, The (1996)', 'African Queen, The (1951)', \"Mr. Holland's Opus (1995)\", 'Adventures of Priscilla, Queen of the Desert, The (1994)', 'Renaissance Man (1994)', 'Mars Attacks! (1996)', 'Batman (1989)', 'Twelve Monkeys (1995)', 'Island of Dr. Moreau, The (1996)', 'When Harry Met Sally... (1989)', 'Circle of Friends (1995)', 'Bridges of Madison County, The (1995)', 'Last of the Mohicans, The (1992)', 'Rock, The (1996)', '101 Dalmatians (1996)', 'Face/Off (1997)', 'Dumbo (1941)', 'Air Force One (1997)', 'Playing God (1997)', 'E.T. the Extra-Terrestrial (1982)', \"Schindler's List (1993)\", 'Now and Then (1995)', 'Evita (1996)', 'Michael (1996)', 'As Good As It Gets (1997)', 'Raising Arizona (1987)', 'Hercules (1997)', 'Eraser (1996)', 'Looking for Richard (1996)', 'Apt Pupil (1998)', 'Quiet Man, The (1952)', 'Twister (1996)', 'Outbreak (1995)', 'Mrs. Doubtfire (1993)', 'Sabrina (1954)', 'Top Gun (1986)', 'Sense and Sensibility (1995)', 'Mother (1996)', 'Star Wars (1977)', 'Toy Story (1995)', 'Ed Wood (1994)', 'Hunchback of Notre Dame, The (1996)', 'I.Q. (1994)', 'Local Hero (1983)', 'Fox and the Hound, The (1981)', 'Shine (1996)', 'Lost World: Jurassic Park, The (1997)', 'Affair to Remember, An (1957)', 'Indiana Jones and the Last Crusade (1989)', 'Bullets Over Broadway (1994)', 'Mission: Impossible (1996)', 'Santa Clause, The (1994)', 'Fantasia (1940)', 'From Dusk Till Dawn (1996)', 'Silence of the Lambs, The (1991)', 'Indian in the Cupboard, The (1995)', \"Singin' in the Rain (1952)\", 'Nightmare Before Christmas, The (1993)', 'Fish Called Wanda, A (1988)', 'Aladdin (1992)', \"Nobody's Fool (1994)\", 'Brazil (1985)', 'Ghost (1990)', 'Amadeus (1984)', 'Tomorrow Never Dies (1997)', 'In the Line of Fire (1993)', 'Return of the Jedi (1983)', 'Speed (1994)', 'Seven (Se7en) (1995)', 'American President, The (1995)', 'Good Will Hunting (1997)', 'Starship Troopers (1997)', 'Princess Bride, The (1987)', 'Courage Under Fire (1996)', 'Secrets & Lies (1996)', 'Jack (1996)', 'Sleepers (1996)', 'Field of Dreams (1989)', 'Pulp Fiction (1994)', 'Dave (1993)', 'Firm, The (1993)', 'Georgia (1995)', 'Peacemaker, The (1997)', 'Dirty Dancing (1987)', 'Jerry Maguire (1996)', 'Lion King, The (1994)', 'L.A. Confidential (1997)', 'Legends of the Fall (1994)', 'M*A*S*H (1970)', 'Bed of Roses (1996)', 'Sleepless in Seattle (1993)', 'Emma (1996)', 'Ransom (1996)', 'True Lies (1994)', 'Fierce Creatures (1997)', 'Mr. Wrong (1996)', \"It's a Wonderful Life (1946)\", 'Grand Day Out, A (1992)', 'Birdcage, The (1996)', 'Absolute Power (1997)', 'Jurassic Park (1993)', 'Titanic (1997)', 'Father of the Bride Part II (1995)', 'Murder in the First (1995)', 'Multiplicity (1996)', 'Truth About Cats & Dogs, The (1996)', \"Fathers' Day (1997)\", 'Full Monty, The (1997)', 'Close Shave, A (1995)', 'Cool Runnings (1993)', 'Dances with Wolves (1990)', 'Batman Returns (1992)', 'Dead Poets Society (1989)', 'Vertigo (1958)', 'Homeward Bound: The Incredible Journey (1993)', 'Gone with the Wind (1939)', 'Remains of the Day, The (1993)', 'Philadelphia (1993)', \"Bram Stoker's Dracula (1992)\", \"She's the One (1996)\", 'Wag the Dog (1997)', 'Four Rooms (1995)', 'In the Name of the Father (1993)', 'Don Juan DeMarco (1995)', 'Empire Strikes Back, The (1980)', 'Interview with the Vampire (1994)', 'Up Close and Personal (1996)', 'Fried Green Tomatoes (1991)', 'Fugitive, The (1993)', 'Only You (1994)', 'Dead Man Walking (1995)', 'Cronos (1992)', 'Perfect World, A (1993)', 'Fifth Element, The (1997)', 'Leaving Las Vegas (1995)', 'Midnight in the Garden of Good and Evil (1997)', 'Beauty and the Beast (1991)', 'French Kiss (1995)', 'Dracula: Dead and Loving It (1995)', 'Some Like It Hot (1959)', 'Winnie the Pooh and the Blustery Day (1968)', 'Apollo 13 (1995)', 'In & Out (1997)', 'Raiders of the Lost Ark (1981)', 'Usual Suspects, The (1995)', 'Adventures of Robin Hood, The (1938)', 'Benny & Joon (1993)', 'Liar Liar (1997)', 'Monty Python and the Holy Grail (1974)', 'Grosse Pointe Blank (1997)', 'Babe (1995)', 'Clear and Present Danger (1994)', 'James and the Giant Peach (1996)', 'Cinderella (1950)', 'Forrest Gump (1994)', 'Little Women (1994)', 'Die Hard: With a Vengeance (1995)', 'Blues Brothers, The (1980)', 'Clueless (1995)', 'Independence Day (ID4) (1996)', 'Sword in the Stone, The (1963)', 'Mouse Hunt (1997)', 'Kalifornia (1993)', \"Breakfast at Tiffany's (1961)\", 'Contact (1997)', 'Nell (1994)', 'Nutty Professor, The (1996)', 'Wedding Singer, The (1998)', 'Down Periscope (1996)', 'Quiz Show (1994)', 'Star Trek: First Contact (1996)', 'Cable Guy, The (1996)', 'Lone Star (1996)', 'Wrong Trousers, The (1993)', 'Four Weddings and a Funeral (1994)', 'Pocahontas (1995)', 'Broken Arrow (1996)', 'Young Frankenstein (1974)', 'Men in Black (1997)', 'Fargo (1996)', 'Jumanji (1995)', \"William Shakespeare's Romeo and Juliet (1996)\", 'Godfather, The (1972)', 'Aristocats, The (1970)', 'That Thing You Do! (1996)', 'Get Shorty (1995)', 'Restoration (1995)', 'Sabrina (1995)', 'Die Hard (1988)', 'Simple Twist of Fate, A (1994)', 'Maverick (1994)', 'Englishman Who Went Up a Hill, But Came Down a Mountain, The (1995)', 'Die Hard 2 (1990)', 'Sound of Music, The (1965)', 'Corrina, Corrina (1994)', 'Batman & Robin (1997)', 'Groundhog Day (1993)', 'Flubber (1997)', 'Primal Fear (1996)', 'Frighteners, The (1996)']\n",
      "Recommendations\n",
      "Item: Braveheart (1995) | weight: 0.8911983560662051\n",
      "Item: Aliens (1986) | weight: 0.8471481141900409\n",
      "Item: Pretty Woman (1990) | weight: 0.8342890685929463\n",
      "Item: Grease (1978) | weight: 0.8331168665547616\n",
      "Item: Jaws (1975) | weight: 0.8089565106936414\n",
      "---\n",
      "\n",
      "User watched\n",
      "['Face/Off (1997)', 'Princess Bride, The (1987)', 'Hunchback of Notre Dame, The (1996)', 'Dave (1993)', 'Saint, The (1997)', 'Return of the Jedi (1983)', \"Schindler's List (1993)\", 'Mask, The (1994)', 'Bringing Up Baby (1938)', 'Wrong Trousers, The (1993)', 'Wings of the Dove, The (1997)', 'North by Northwest (1959)', 'Sling Blade (1996)', 'Twelfth Night (1996)', 'Rumble in the Bronx (1995)', 'Leaving Las Vegas (1995)', 'Austin Powers: International Man of Mystery (1997)', 'Double vie de Véronique, La (Double Life of Veronique, The) (1991)', 'True Lies (1994)', 'Clockwork Orange, A (1971)', 'Terminator 2: Judgment Day (1991)', 'Sound of Music, The (1965)', 'L.A. Confidential (1997)', 'Truth About Cats & Dogs, The (1996)', 'Godfather: Part II, The (1974)', 'Sense and Sensibility (1995)', 'Akira (1988)', 'Starship Troopers (1997)', 'Air Force One (1997)', 'Fargo (1996)', 'Mission: Impossible (1996)', 'Twelve Monkeys (1995)', \"Jackie Chan's First Strike (1996)\", 'Mars Attacks! (1996)', 'Usual Suspects, The (1995)', 'Close Shave, A (1995)', 'Monty Python and the Holy Grail (1974)', 'Supercop (1992)', 'English Patient, The (1996)', 'Babe (1995)', 'Star Trek: The Wrath of Khan (1982)', 'Braveheart (1995)', 'Evita (1996)', 'Pulp Fiction (1994)', 'Searching for Bobby Fischer (1993)', 'Wallace & Gromit: The Best of Aardman Animation (1996)', 'Citizen Kane (1941)', 'Sabrina (1995)', 'Henry V (1989)', 'Lion King, The (1994)', 'Empire Strikes Back, The (1980)', 'Four Weddings and a Funeral (1994)', 'Indiana Jones and the Last Crusade (1989)', 'Apollo 13 (1995)', 'City of Lost Children, The (1995)', 'Contact (1997)', \"Singin' in the Rain (1952)\", 'Back to the Future (1985)', 'Othello (1995)', 'His Girl Friday (1940)', 'Toy Story (1995)', 'Charade (1963)', 'Jurassic Park (1993)', 'Brazil (1985)', 'Three Colors: Blue (1993)', 'Welcome to the Dollhouse (1995)', 'In the Bleak Midwinter (1995)', 'Raiders of the Lost Ark (1981)', 'Lone Star (1996)', 'Amistad (1997)', 'Speed (1994)', 'Dead Man Walking (1995)', 'Much Ado About Nothing (1993)', 'Forrest Gump (1994)', \"My Best Friend's Wedding (1997)\", 'Roman Holiday (1953)', 'Independence Day (ID4) (1996)', 'Men in Black (1997)', 'Batman & Robin (1997)', 'Wedding Singer, The (1998)', 'Eat Drink Man Woman (1994)', 'Mary Poppins (1964)', 'Amadeus (1984)', 'Secret Garden, The (1993)', 'Godfather, The (1972)', 'Hamlet (1996)', 'Fish Called Wanda, A (1988)', 'Star Wars (1977)', 'Emma (1996)', 'Star Trek: First Contact (1996)', 'Raising Arizona (1987)', 'Hercules (1997)', 'Titanic (1997)']\n",
      "Recommendations\n",
      "Item: Jaws (1975) | weight: 1.7850234860529477\n",
      "Item: Fugitive, The (1993) | weight: 1.6882028611091966\n",
      "Item: Aliens (1986) | weight: 1.6390637242363264\n",
      "Item: Get Shorty (1995) | weight: 1.6390637242363264\n",
      "Item: Die Hard (1988) | weight: 1.630506920848912\n",
      "---\n",
      "\n",
      "User watched\n",
      "['Apollo 13 (1995)', 'Feeling Minnesota (1996)', 'Aliens (1986)', 'Ben-Hur (1959)', 'Sound of Music, The (1965)', 'Scream (1996)', 'Don Juan DeMarco (1995)', 'Fugitive, The (1993)', 'Jaws (1975)', 'Kingpin (1996)', 'Alien (1979)', 'Empire Strikes Back, The (1980)', 'Murder at 1600 (1997)', 'True Lies (1994)', 'Leaving Las Vegas (1995)', 'In the Name of the Father (1993)', 'Glory (1989)', 'Lost World: Jurassic Park, The (1997)', 'Clear and Present Danger (1994)', 'Operation Dumbo Drop (1995)', 'Independence Day (ID4) (1996)', 'Rock, The (1996)', 'Alien 3 (1992)', 'Good, The Bad and The Ugly, The (1966)', 'Mission: Impossible (1996)', 'Supercop (1992)', 'Copycat (1995)', 'Die xue shuang xiong (Killer, The) (1989)', 'Evita (1996)', 'Murder in the First (1995)', 'Game, The (1997)', 'Malice (1993)', 'African Queen, The (1951)', 'Farewell My Concubine (1993)', 'Conspiracy Theory (1997)', 'To Live (Huozhe) (1994)', 'Silence of the Lambs, The (1991)', \"Schindler's List (1993)\", 'Pulp Fiction (1994)', 'Firm, The (1993)', 'Long Kiss Goodnight, The (1996)', 'Star Wars (1977)', 'Jerry Maguire (1996)', 'Dances with Wolves (1990)', 'Vegas Vacation (1997)', 'Eat Drink Man Woman (1994)', 'E.T. the Extra-Terrestrial (1982)', 'Jurassic Park (1993)', 'Home Alone (1990)', 'Lion King, The (1994)', 'Kalifornia (1993)', 'Terminator 2: Judgment Day (1991)', 'Ghost and the Darkness, The (1996)', 'Chinatown (1974)', 'Terminator, The (1984)', 'Air Force One (1997)', 'Die Hard 2 (1990)', 'Basic Instinct (1992)']\n",
      "Recommendations\n",
      "Item: Die Hard: With a Vengeance (1995) | weight: 1.9406187379059183\n",
      "Item: Broken Arrow (1996) | weight: 1.8246929855789618\n",
      "Item: Forrest Gump (1994) | weight: 1.776138860430658\n",
      "Item: Indiana Jones and the Last Crusade (1989) | weight: 1.776138860430658\n",
      "Item: Raiders of the Lost Ark (1981) | weight: 1.776138860430658\n",
      "---\n"
     ]
    }
   ],
   "source": [
    "for ts in test_sessions:\n",
    "    print('User watched')\n",
    "    print(str([get_movie_name(x) for x in ts[0]]))\n",
    "    print('Recommendations')\n",
    "    recs = model.recommend(ts)\n",
    "    for rec in recs:\n",
    "        print('Item:', get_movie_name(rec[0]), '| weight:', rec[1])\n",
    "    print('---')\n",
    "    print('')\n",
    "    "
   ],
   "metadata": {
    "collapsed": false,
    "ExecuteTime": {
     "end_time": "2023-08-22T09:29:36.287237822Z",
     "start_time": "2023-08-22T09:29:36.067510653Z"
    }
   }
  },
  {
   "cell_type": "code",
   "execution_count": null,
   "outputs": [],
   "source": [],
   "metadata": {
    "collapsed": false
   }
  }
 ],
 "metadata": {
  "kernelspec": {
   "display_name": "Python 3",
   "language": "python",
   "name": "python3"
  },
  "language_info": {
   "codemirror_mode": {
    "name": "ipython",
    "version": 2
   },
   "file_extension": ".py",
   "mimetype": "text/x-python",
   "name": "python",
   "nbconvert_exporter": "python",
   "pygments_lexer": "ipython2",
   "version": "2.7.6"
  }
 },
 "nbformat": 4,
 "nbformat_minor": 0
}
